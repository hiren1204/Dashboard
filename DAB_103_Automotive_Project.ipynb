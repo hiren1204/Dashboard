{
  "cells": [
    {
      "cell_type": "markdown",
      "metadata": {
        "id": "view-in-github",
        "colab_type": "text"
      },
      "source": [
        "<a href=\"https://colab.research.google.com/github/hiren1204/Dashboard/blob/master/DAB_103_Automotive_Project.ipynb\" target=\"_parent\"><img src=\"https://colab.research.google.com/assets/colab-badge.svg\" alt=\"Open In Colab\"/></a>"
      ]
    },
    {
      "cell_type": "code",
      "execution_count": 59,
      "metadata": {
        "id": "v4aIyLl5MnZi"
      },
      "outputs": [],
      "source": [
        "#importing libraries \n",
        "import pandas as pd\n",
        "import numpy as np\n",
        "import matplotlib.pyplot as plt\n",
        "import seaborn as sns\n",
        "from google.colab import files\n",
        "import matplotlib.pyplot as plt\n",
        "%matplotlib inline"
      ]
    },
    {
      "cell_type": "code",
      "source": [],
      "metadata": {
        "id": "AsfPOR5sHjMQ"
      },
      "execution_count": null,
      "outputs": []
    },
    {
      "cell_type": "code",
      "execution_count": 15,
      "metadata": {
        "colab": {
          "base_uri": "https://localhost:8080/"
        },
        "id": "8xSEz7-_JmZu",
        "outputId": "ad26b771-72d4-459a-ae3b-b57994ec225c"
      },
      "outputs": [
        {
          "output_type": "stream",
          "name": "stderr",
          "text": [
            "/usr/local/lib/python3.7/dist-packages/IPython/core/interactiveshell.py:3326: DtypeWarning: Columns (16) have mixed types.Specify dtype option on import or set low_memory=False.\n",
            "  exec(code_obj, self.user_global_ns, self.user_ns)\n"
          ]
        }
      ],
      "source": [
        "#importing data\n",
        "\n",
        "df = pd.read_csv(r'/content/past data.csv')"
      ]
    },
    {
      "cell_type": "code",
      "execution_count": 16,
      "metadata": {
        "colab": {
          "base_uri": "https://localhost:8080/",
          "height": 939
        },
        "id": "zfKLO7PB3SOm",
        "outputId": "1ec68954-7900-469e-8aa3-88a77b53a5de"
      },
      "outputs": [
        {
          "output_type": "execute_result",
          "data": {
            "text/plain": [
              "       REF_DATE                                   GEO           DGUID  \\\n",
              "0       1946-01                                Canada  2016A000011124   \n",
              "1       1946-01                                Canada  2016A000011124   \n",
              "2       1946-01                                Canada  2016A000011124   \n",
              "3       1946-01                                Canada  2016A000011124   \n",
              "4       1946-01                                Canada  2016A000011124   \n",
              "...         ...                                   ...             ...   \n",
              "156387  2022-07  British Columbia and the Territories             NaN   \n",
              "156388  2022-07  British Columbia and the Territories             NaN   \n",
              "156389  2022-07  British Columbia and the Territories             NaN   \n",
              "156390  2022-07  British Columbia and the Territories             NaN   \n",
              "156391  2022-07  British Columbia and the Territories             NaN   \n",
              "\n",
              "                     Vehicle type          Origin of manufacture    Sales  \\\n",
              "0       Total, new motor vehicles  Total, country of manufacture    Units   \n",
              "1       Total, new motor vehicles  Total, country of manufacture  Dollars   \n",
              "2                  Passenger cars  Total, country of manufacture    Units   \n",
              "3                  Passenger cars  Total, country of manufacture    Units   \n",
              "4                  Passenger cars  Total, country of manufacture  Dollars   \n",
              "...                           ...                            ...      ...   \n",
              "156387                     Trucks  Total, country of manufacture  Dollars   \n",
              "156388                     Trucks                  North America    Units   \n",
              "156389                     Trucks                  North America  Dollars   \n",
              "156390                     Trucks                Total, overseas    Units   \n",
              "156391                     Trucks                Total, overseas  Dollars   \n",
              "\n",
              "        Seasonal adjustment      UOM  UOM_ID SCALAR_FACTOR  SCALAR_ID  \\\n",
              "0                Unadjusted    Units     300        units           0   \n",
              "1                Unadjusted  Dollars      81     thousands          3   \n",
              "2                Unadjusted    Units     300        units           0   \n",
              "3       Seasonally adjusted    Units     300        units           0   \n",
              "4                Unadjusted  Dollars      81     thousands          3   \n",
              "...                     ...      ...     ...           ...        ...   \n",
              "156387           Unadjusted  Dollars      81     thousands          3   \n",
              "156388           Unadjusted    Units     300         units          0   \n",
              "156389           Unadjusted  Dollars      81     thousands          3   \n",
              "156390           Unadjusted    Units     300         units          0   \n",
              "156391           Unadjusted  Dollars      81     thousands          3   \n",
              "\n",
              "           VECTOR  COORDINATE     VALUE STATUS  SYMBOL TERMINATED  DECIMALS  \n",
              "0       v42169911   1.1.1.1.1    2756.0    NaN     NaN        NaN         0  \n",
              "1       v42169913   1.1.1.2.1    4507.0    NaN     NaN        NaN         0  \n",
              "2       v42169920   1.2.1.1.1    1102.0    NaN     NaN        NaN         0  \n",
              "3       v42169921   1.2.1.1.2    1468.0    NaN     NaN          t         0  \n",
              "4       v42169922   1.2.1.2.1    1604.0    NaN     NaN        NaN         0  \n",
              "...           ...         ...       ...    ...     ...        ...       ...  \n",
              "156387  v42169989  11.3.1.2.1  647830.0    NaN     NaN        NaN         0  \n",
              "156388  v42169990  11.3.2.1.1    8846.0    NaN     NaN        NaN         0  \n",
              "156389  v42169991  11.3.2.2.1  515677.0    NaN     NaN        NaN         0  \n",
              "156390  v42169992  11.3.3.1.1    2890.0    NaN     NaN        NaN         0  \n",
              "156391  v42169993  11.3.3.2.1  132153.0    NaN     NaN        NaN         0  \n",
              "\n",
              "[156392 rows x 18 columns]"
            ],
            "text/html": [
              "\n",
              "  <div id=\"df-f7d72c55-699e-482d-863e-a776450a79c6\">\n",
              "    <div class=\"colab-df-container\">\n",
              "      <div>\n",
              "<style scoped>\n",
              "    .dataframe tbody tr th:only-of-type {\n",
              "        vertical-align: middle;\n",
              "    }\n",
              "\n",
              "    .dataframe tbody tr th {\n",
              "        vertical-align: top;\n",
              "    }\n",
              "\n",
              "    .dataframe thead th {\n",
              "        text-align: right;\n",
              "    }\n",
              "</style>\n",
              "<table border=\"1\" class=\"dataframe\">\n",
              "  <thead>\n",
              "    <tr style=\"text-align: right;\">\n",
              "      <th></th>\n",
              "      <th>REF_DATE</th>\n",
              "      <th>GEO</th>\n",
              "      <th>DGUID</th>\n",
              "      <th>Vehicle type</th>\n",
              "      <th>Origin of manufacture</th>\n",
              "      <th>Sales</th>\n",
              "      <th>Seasonal adjustment</th>\n",
              "      <th>UOM</th>\n",
              "      <th>UOM_ID</th>\n",
              "      <th>SCALAR_FACTOR</th>\n",
              "      <th>SCALAR_ID</th>\n",
              "      <th>VECTOR</th>\n",
              "      <th>COORDINATE</th>\n",
              "      <th>VALUE</th>\n",
              "      <th>STATUS</th>\n",
              "      <th>SYMBOL</th>\n",
              "      <th>TERMINATED</th>\n",
              "      <th>DECIMALS</th>\n",
              "    </tr>\n",
              "  </thead>\n",
              "  <tbody>\n",
              "    <tr>\n",
              "      <th>0</th>\n",
              "      <td>1946-01</td>\n",
              "      <td>Canada</td>\n",
              "      <td>2016A000011124</td>\n",
              "      <td>Total, new motor vehicles</td>\n",
              "      <td>Total, country of manufacture</td>\n",
              "      <td>Units</td>\n",
              "      <td>Unadjusted</td>\n",
              "      <td>Units</td>\n",
              "      <td>300</td>\n",
              "      <td>units</td>\n",
              "      <td>0</td>\n",
              "      <td>v42169911</td>\n",
              "      <td>1.1.1.1.1</td>\n",
              "      <td>2756.0</td>\n",
              "      <td>NaN</td>\n",
              "      <td>NaN</td>\n",
              "      <td>NaN</td>\n",
              "      <td>0</td>\n",
              "    </tr>\n",
              "    <tr>\n",
              "      <th>1</th>\n",
              "      <td>1946-01</td>\n",
              "      <td>Canada</td>\n",
              "      <td>2016A000011124</td>\n",
              "      <td>Total, new motor vehicles</td>\n",
              "      <td>Total, country of manufacture</td>\n",
              "      <td>Dollars</td>\n",
              "      <td>Unadjusted</td>\n",
              "      <td>Dollars</td>\n",
              "      <td>81</td>\n",
              "      <td>thousands</td>\n",
              "      <td>3</td>\n",
              "      <td>v42169913</td>\n",
              "      <td>1.1.1.2.1</td>\n",
              "      <td>4507.0</td>\n",
              "      <td>NaN</td>\n",
              "      <td>NaN</td>\n",
              "      <td>NaN</td>\n",
              "      <td>0</td>\n",
              "    </tr>\n",
              "    <tr>\n",
              "      <th>2</th>\n",
              "      <td>1946-01</td>\n",
              "      <td>Canada</td>\n",
              "      <td>2016A000011124</td>\n",
              "      <td>Passenger cars</td>\n",
              "      <td>Total, country of manufacture</td>\n",
              "      <td>Units</td>\n",
              "      <td>Unadjusted</td>\n",
              "      <td>Units</td>\n",
              "      <td>300</td>\n",
              "      <td>units</td>\n",
              "      <td>0</td>\n",
              "      <td>v42169920</td>\n",
              "      <td>1.2.1.1.1</td>\n",
              "      <td>1102.0</td>\n",
              "      <td>NaN</td>\n",
              "      <td>NaN</td>\n",
              "      <td>NaN</td>\n",
              "      <td>0</td>\n",
              "    </tr>\n",
              "    <tr>\n",
              "      <th>3</th>\n",
              "      <td>1946-01</td>\n",
              "      <td>Canada</td>\n",
              "      <td>2016A000011124</td>\n",
              "      <td>Passenger cars</td>\n",
              "      <td>Total, country of manufacture</td>\n",
              "      <td>Units</td>\n",
              "      <td>Seasonally adjusted</td>\n",
              "      <td>Units</td>\n",
              "      <td>300</td>\n",
              "      <td>units</td>\n",
              "      <td>0</td>\n",
              "      <td>v42169921</td>\n",
              "      <td>1.2.1.1.2</td>\n",
              "      <td>1468.0</td>\n",
              "      <td>NaN</td>\n",
              "      <td>NaN</td>\n",
              "      <td>t</td>\n",
              "      <td>0</td>\n",
              "    </tr>\n",
              "    <tr>\n",
              "      <th>4</th>\n",
              "      <td>1946-01</td>\n",
              "      <td>Canada</td>\n",
              "      <td>2016A000011124</td>\n",
              "      <td>Passenger cars</td>\n",
              "      <td>Total, country of manufacture</td>\n",
              "      <td>Dollars</td>\n",
              "      <td>Unadjusted</td>\n",
              "      <td>Dollars</td>\n",
              "      <td>81</td>\n",
              "      <td>thousands</td>\n",
              "      <td>3</td>\n",
              "      <td>v42169922</td>\n",
              "      <td>1.2.1.2.1</td>\n",
              "      <td>1604.0</td>\n",
              "      <td>NaN</td>\n",
              "      <td>NaN</td>\n",
              "      <td>NaN</td>\n",
              "      <td>0</td>\n",
              "    </tr>\n",
              "    <tr>\n",
              "      <th>...</th>\n",
              "      <td>...</td>\n",
              "      <td>...</td>\n",
              "      <td>...</td>\n",
              "      <td>...</td>\n",
              "      <td>...</td>\n",
              "      <td>...</td>\n",
              "      <td>...</td>\n",
              "      <td>...</td>\n",
              "      <td>...</td>\n",
              "      <td>...</td>\n",
              "      <td>...</td>\n",
              "      <td>...</td>\n",
              "      <td>...</td>\n",
              "      <td>...</td>\n",
              "      <td>...</td>\n",
              "      <td>...</td>\n",
              "      <td>...</td>\n",
              "      <td>...</td>\n",
              "    </tr>\n",
              "    <tr>\n",
              "      <th>156387</th>\n",
              "      <td>2022-07</td>\n",
              "      <td>British Columbia and the Territories</td>\n",
              "      <td>NaN</td>\n",
              "      <td>Trucks</td>\n",
              "      <td>Total, country of manufacture</td>\n",
              "      <td>Dollars</td>\n",
              "      <td>Unadjusted</td>\n",
              "      <td>Dollars</td>\n",
              "      <td>81</td>\n",
              "      <td>thousands</td>\n",
              "      <td>3</td>\n",
              "      <td>v42169989</td>\n",
              "      <td>11.3.1.2.1</td>\n",
              "      <td>647830.0</td>\n",
              "      <td>NaN</td>\n",
              "      <td>NaN</td>\n",
              "      <td>NaN</td>\n",
              "      <td>0</td>\n",
              "    </tr>\n",
              "    <tr>\n",
              "      <th>156388</th>\n",
              "      <td>2022-07</td>\n",
              "      <td>British Columbia and the Territories</td>\n",
              "      <td>NaN</td>\n",
              "      <td>Trucks</td>\n",
              "      <td>North America</td>\n",
              "      <td>Units</td>\n",
              "      <td>Unadjusted</td>\n",
              "      <td>Units</td>\n",
              "      <td>300</td>\n",
              "      <td>units</td>\n",
              "      <td>0</td>\n",
              "      <td>v42169990</td>\n",
              "      <td>11.3.2.1.1</td>\n",
              "      <td>8846.0</td>\n",
              "      <td>NaN</td>\n",
              "      <td>NaN</td>\n",
              "      <td>NaN</td>\n",
              "      <td>0</td>\n",
              "    </tr>\n",
              "    <tr>\n",
              "      <th>156389</th>\n",
              "      <td>2022-07</td>\n",
              "      <td>British Columbia and the Territories</td>\n",
              "      <td>NaN</td>\n",
              "      <td>Trucks</td>\n",
              "      <td>North America</td>\n",
              "      <td>Dollars</td>\n",
              "      <td>Unadjusted</td>\n",
              "      <td>Dollars</td>\n",
              "      <td>81</td>\n",
              "      <td>thousands</td>\n",
              "      <td>3</td>\n",
              "      <td>v42169991</td>\n",
              "      <td>11.3.2.2.1</td>\n",
              "      <td>515677.0</td>\n",
              "      <td>NaN</td>\n",
              "      <td>NaN</td>\n",
              "      <td>NaN</td>\n",
              "      <td>0</td>\n",
              "    </tr>\n",
              "    <tr>\n",
              "      <th>156390</th>\n",
              "      <td>2022-07</td>\n",
              "      <td>British Columbia and the Territories</td>\n",
              "      <td>NaN</td>\n",
              "      <td>Trucks</td>\n",
              "      <td>Total, overseas</td>\n",
              "      <td>Units</td>\n",
              "      <td>Unadjusted</td>\n",
              "      <td>Units</td>\n",
              "      <td>300</td>\n",
              "      <td>units</td>\n",
              "      <td>0</td>\n",
              "      <td>v42169992</td>\n",
              "      <td>11.3.3.1.1</td>\n",
              "      <td>2890.0</td>\n",
              "      <td>NaN</td>\n",
              "      <td>NaN</td>\n",
              "      <td>NaN</td>\n",
              "      <td>0</td>\n",
              "    </tr>\n",
              "    <tr>\n",
              "      <th>156391</th>\n",
              "      <td>2022-07</td>\n",
              "      <td>British Columbia and the Territories</td>\n",
              "      <td>NaN</td>\n",
              "      <td>Trucks</td>\n",
              "      <td>Total, overseas</td>\n",
              "      <td>Dollars</td>\n",
              "      <td>Unadjusted</td>\n",
              "      <td>Dollars</td>\n",
              "      <td>81</td>\n",
              "      <td>thousands</td>\n",
              "      <td>3</td>\n",
              "      <td>v42169993</td>\n",
              "      <td>11.3.3.2.1</td>\n",
              "      <td>132153.0</td>\n",
              "      <td>NaN</td>\n",
              "      <td>NaN</td>\n",
              "      <td>NaN</td>\n",
              "      <td>0</td>\n",
              "    </tr>\n",
              "  </tbody>\n",
              "</table>\n",
              "<p>156392 rows × 18 columns</p>\n",
              "</div>\n",
              "      <button class=\"colab-df-convert\" onclick=\"convertToInteractive('df-f7d72c55-699e-482d-863e-a776450a79c6')\"\n",
              "              title=\"Convert this dataframe to an interactive table.\"\n",
              "              style=\"display:none;\">\n",
              "        \n",
              "  <svg xmlns=\"http://www.w3.org/2000/svg\" height=\"24px\"viewBox=\"0 0 24 24\"\n",
              "       width=\"24px\">\n",
              "    <path d=\"M0 0h24v24H0V0z\" fill=\"none\"/>\n",
              "    <path d=\"M18.56 5.44l.94 2.06.94-2.06 2.06-.94-2.06-.94-.94-2.06-.94 2.06-2.06.94zm-11 1L8.5 8.5l.94-2.06 2.06-.94-2.06-.94L8.5 2.5l-.94 2.06-2.06.94zm10 10l.94 2.06.94-2.06 2.06-.94-2.06-.94-.94-2.06-.94 2.06-2.06.94z\"/><path d=\"M17.41 7.96l-1.37-1.37c-.4-.4-.92-.59-1.43-.59-.52 0-1.04.2-1.43.59L10.3 9.45l-7.72 7.72c-.78.78-.78 2.05 0 2.83L4 21.41c.39.39.9.59 1.41.59.51 0 1.02-.2 1.41-.59l7.78-7.78 2.81-2.81c.8-.78.8-2.07 0-2.86zM5.41 20L4 18.59l7.72-7.72 1.47 1.35L5.41 20z\"/>\n",
              "  </svg>\n",
              "      </button>\n",
              "      \n",
              "  <style>\n",
              "    .colab-df-container {\n",
              "      display:flex;\n",
              "      flex-wrap:wrap;\n",
              "      gap: 12px;\n",
              "    }\n",
              "\n",
              "    .colab-df-convert {\n",
              "      background-color: #E8F0FE;\n",
              "      border: none;\n",
              "      border-radius: 50%;\n",
              "      cursor: pointer;\n",
              "      display: none;\n",
              "      fill: #1967D2;\n",
              "      height: 32px;\n",
              "      padding: 0 0 0 0;\n",
              "      width: 32px;\n",
              "    }\n",
              "\n",
              "    .colab-df-convert:hover {\n",
              "      background-color: #E2EBFA;\n",
              "      box-shadow: 0px 1px 2px rgba(60, 64, 67, 0.3), 0px 1px 3px 1px rgba(60, 64, 67, 0.15);\n",
              "      fill: #174EA6;\n",
              "    }\n",
              "\n",
              "    [theme=dark] .colab-df-convert {\n",
              "      background-color: #3B4455;\n",
              "      fill: #D2E3FC;\n",
              "    }\n",
              "\n",
              "    [theme=dark] .colab-df-convert:hover {\n",
              "      background-color: #434B5C;\n",
              "      box-shadow: 0px 1px 3px 1px rgba(0, 0, 0, 0.15);\n",
              "      filter: drop-shadow(0px 1px 2px rgba(0, 0, 0, 0.3));\n",
              "      fill: #FFFFFF;\n",
              "    }\n",
              "  </style>\n",
              "\n",
              "      <script>\n",
              "        const buttonEl =\n",
              "          document.querySelector('#df-f7d72c55-699e-482d-863e-a776450a79c6 button.colab-df-convert');\n",
              "        buttonEl.style.display =\n",
              "          google.colab.kernel.accessAllowed ? 'block' : 'none';\n",
              "\n",
              "        async function convertToInteractive(key) {\n",
              "          const element = document.querySelector('#df-f7d72c55-699e-482d-863e-a776450a79c6');\n",
              "          const dataTable =\n",
              "            await google.colab.kernel.invokeFunction('convertToInteractive',\n",
              "                                                     [key], {});\n",
              "          if (!dataTable) return;\n",
              "\n",
              "          const docLinkHtml = 'Like what you see? Visit the ' +\n",
              "            '<a target=\"_blank\" href=https://colab.research.google.com/notebooks/data_table.ipynb>data table notebook</a>'\n",
              "            + ' to learn more about interactive tables.';\n",
              "          element.innerHTML = '';\n",
              "          dataTable['output_type'] = 'display_data';\n",
              "          await google.colab.output.renderOutput(dataTable, element);\n",
              "          const docLink = document.createElement('div');\n",
              "          docLink.innerHTML = docLinkHtml;\n",
              "          element.appendChild(docLink);\n",
              "        }\n",
              "      </script>\n",
              "    </div>\n",
              "  </div>\n",
              "  "
            ]
          },
          "metadata": {},
          "execution_count": 16
        }
      ],
      "source": [
        "df"
      ]
    },
    {
      "cell_type": "code",
      "execution_count": 17,
      "metadata": {
        "id": "7HaYfMh62y35"
      },
      "outputs": [],
      "source": [
        "df = pd.DataFrame(df)"
      ]
    },
    {
      "cell_type": "code",
      "execution_count": 18,
      "metadata": {
        "colab": {
          "base_uri": "https://localhost:8080/"
        },
        "id": "cVJkCdm6M4i_",
        "outputId": "93551cbd-f9b8-4057-f7cb-eb43c12ed06d"
      },
      "outputs": [
        {
          "output_type": "execute_result",
          "data": {
            "text/plain": [
              "(156392, 18)"
            ]
          },
          "metadata": {},
          "execution_count": 18
        }
      ],
      "source": [
        "#numner of rows and columns\n",
        "df.shape"
      ]
    },
    {
      "cell_type": "code",
      "source": [
        "#list the name of the columns\n",
        "df.columns"
      ],
      "metadata": {
        "colab": {
          "base_uri": "https://localhost:8080/"
        },
        "id": "tCqt72uwgUso",
        "outputId": "a69a55ab-a6c5-4682-e03c-07b2e6a55a82"
      },
      "execution_count": 43,
      "outputs": [
        {
          "output_type": "execute_result",
          "data": {
            "text/plain": [
              "Index(['REF_DATE', 'GEO', 'DGUID', 'Vehicletype', 'Originofmanufacture',\n",
              "       'Sales', 'Seasonaladjustment', 'UOM', 'UOM_ID', 'SCALAR_FACTOR',\n",
              "       'SCALAR_ID', 'VECTOR', 'COORDINATE', 'VALUE', 'STATUS', 'SYMBOL',\n",
              "       'TERMINATED', 'DECIMALS'],\n",
              "      dtype='object')"
            ]
          },
          "metadata": {},
          "execution_count": 43
        }
      ]
    },
    {
      "cell_type": "markdown",
      "metadata": {
        "id": "Vn7MQ6x_pH9y"
      },
      "source": [
        "# **Data Cleaning**"
      ]
    },
    {
      "cell_type": "code",
      "execution_count": 19,
      "metadata": {
        "colab": {
          "base_uri": "https://localhost:8080/",
          "height": 505
        },
        "id": "YSpYVfWWRBKY",
        "outputId": "1430cea0-bf2a-4cb9-d04a-2bb02eef4e2b"
      },
      "outputs": [
        {
          "output_type": "execute_result",
          "data": {
            "text/plain": [
              "        REF_DATE    GEO  DGUID  Vehicle type  Origin of manufacture  Sales  \\\n",
              "0          False  False  False         False                  False  False   \n",
              "1          False  False  False         False                  False  False   \n",
              "2          False  False  False         False                  False  False   \n",
              "3          False  False  False         False                  False  False   \n",
              "4          False  False  False         False                  False  False   \n",
              "...          ...    ...    ...           ...                    ...    ...   \n",
              "156387     False  False   True         False                  False  False   \n",
              "156388     False  False   True         False                  False  False   \n",
              "156389     False  False   True         False                  False  False   \n",
              "156390     False  False   True         False                  False  False   \n",
              "156391     False  False   True         False                  False  False   \n",
              "\n",
              "        Seasonal adjustment    UOM  UOM_ID  SCALAR_FACTOR  SCALAR_ID  VECTOR  \\\n",
              "0                     False  False   False          False      False   False   \n",
              "1                     False  False   False          False      False   False   \n",
              "2                     False  False   False          False      False   False   \n",
              "3                     False  False   False          False      False   False   \n",
              "4                     False  False   False          False      False   False   \n",
              "...                     ...    ...     ...            ...        ...     ...   \n",
              "156387                False  False   False          False      False   False   \n",
              "156388                False  False   False          False      False   False   \n",
              "156389                False  False   False          False      False   False   \n",
              "156390                False  False   False          False      False   False   \n",
              "156391                False  False   False          False      False   False   \n",
              "\n",
              "        COORDINATE  VALUE  STATUS  SYMBOL  TERMINATED  DECIMALS  \n",
              "0            False  False    True    True        True     False  \n",
              "1            False  False    True    True        True     False  \n",
              "2            False  False    True    True        True     False  \n",
              "3            False  False    True    True       False     False  \n",
              "4            False  False    True    True        True     False  \n",
              "...            ...    ...     ...     ...         ...       ...  \n",
              "156387       False  False    True    True        True     False  \n",
              "156388       False  False    True    True        True     False  \n",
              "156389       False  False    True    True        True     False  \n",
              "156390       False  False    True    True        True     False  \n",
              "156391       False  False    True    True        True     False  \n",
              "\n",
              "[156392 rows x 18 columns]"
            ],
            "text/html": [
              "\n",
              "  <div id=\"df-6f25c56d-d1a4-4d01-a239-66152251ae0b\">\n",
              "    <div class=\"colab-df-container\">\n",
              "      <div>\n",
              "<style scoped>\n",
              "    .dataframe tbody tr th:only-of-type {\n",
              "        vertical-align: middle;\n",
              "    }\n",
              "\n",
              "    .dataframe tbody tr th {\n",
              "        vertical-align: top;\n",
              "    }\n",
              "\n",
              "    .dataframe thead th {\n",
              "        text-align: right;\n",
              "    }\n",
              "</style>\n",
              "<table border=\"1\" class=\"dataframe\">\n",
              "  <thead>\n",
              "    <tr style=\"text-align: right;\">\n",
              "      <th></th>\n",
              "      <th>REF_DATE</th>\n",
              "      <th>GEO</th>\n",
              "      <th>DGUID</th>\n",
              "      <th>Vehicle type</th>\n",
              "      <th>Origin of manufacture</th>\n",
              "      <th>Sales</th>\n",
              "      <th>Seasonal adjustment</th>\n",
              "      <th>UOM</th>\n",
              "      <th>UOM_ID</th>\n",
              "      <th>SCALAR_FACTOR</th>\n",
              "      <th>SCALAR_ID</th>\n",
              "      <th>VECTOR</th>\n",
              "      <th>COORDINATE</th>\n",
              "      <th>VALUE</th>\n",
              "      <th>STATUS</th>\n",
              "      <th>SYMBOL</th>\n",
              "      <th>TERMINATED</th>\n",
              "      <th>DECIMALS</th>\n",
              "    </tr>\n",
              "  </thead>\n",
              "  <tbody>\n",
              "    <tr>\n",
              "      <th>0</th>\n",
              "      <td>False</td>\n",
              "      <td>False</td>\n",
              "      <td>False</td>\n",
              "      <td>False</td>\n",
              "      <td>False</td>\n",
              "      <td>False</td>\n",
              "      <td>False</td>\n",
              "      <td>False</td>\n",
              "      <td>False</td>\n",
              "      <td>False</td>\n",
              "      <td>False</td>\n",
              "      <td>False</td>\n",
              "      <td>False</td>\n",
              "      <td>False</td>\n",
              "      <td>True</td>\n",
              "      <td>True</td>\n",
              "      <td>True</td>\n",
              "      <td>False</td>\n",
              "    </tr>\n",
              "    <tr>\n",
              "      <th>1</th>\n",
              "      <td>False</td>\n",
              "      <td>False</td>\n",
              "      <td>False</td>\n",
              "      <td>False</td>\n",
              "      <td>False</td>\n",
              "      <td>False</td>\n",
              "      <td>False</td>\n",
              "      <td>False</td>\n",
              "      <td>False</td>\n",
              "      <td>False</td>\n",
              "      <td>False</td>\n",
              "      <td>False</td>\n",
              "      <td>False</td>\n",
              "      <td>False</td>\n",
              "      <td>True</td>\n",
              "      <td>True</td>\n",
              "      <td>True</td>\n",
              "      <td>False</td>\n",
              "    </tr>\n",
              "    <tr>\n",
              "      <th>2</th>\n",
              "      <td>False</td>\n",
              "      <td>False</td>\n",
              "      <td>False</td>\n",
              "      <td>False</td>\n",
              "      <td>False</td>\n",
              "      <td>False</td>\n",
              "      <td>False</td>\n",
              "      <td>False</td>\n",
              "      <td>False</td>\n",
              "      <td>False</td>\n",
              "      <td>False</td>\n",
              "      <td>False</td>\n",
              "      <td>False</td>\n",
              "      <td>False</td>\n",
              "      <td>True</td>\n",
              "      <td>True</td>\n",
              "      <td>True</td>\n",
              "      <td>False</td>\n",
              "    </tr>\n",
              "    <tr>\n",
              "      <th>3</th>\n",
              "      <td>False</td>\n",
              "      <td>False</td>\n",
              "      <td>False</td>\n",
              "      <td>False</td>\n",
              "      <td>False</td>\n",
              "      <td>False</td>\n",
              "      <td>False</td>\n",
              "      <td>False</td>\n",
              "      <td>False</td>\n",
              "      <td>False</td>\n",
              "      <td>False</td>\n",
              "      <td>False</td>\n",
              "      <td>False</td>\n",
              "      <td>False</td>\n",
              "      <td>True</td>\n",
              "      <td>True</td>\n",
              "      <td>False</td>\n",
              "      <td>False</td>\n",
              "    </tr>\n",
              "    <tr>\n",
              "      <th>4</th>\n",
              "      <td>False</td>\n",
              "      <td>False</td>\n",
              "      <td>False</td>\n",
              "      <td>False</td>\n",
              "      <td>False</td>\n",
              "      <td>False</td>\n",
              "      <td>False</td>\n",
              "      <td>False</td>\n",
              "      <td>False</td>\n",
              "      <td>False</td>\n",
              "      <td>False</td>\n",
              "      <td>False</td>\n",
              "      <td>False</td>\n",
              "      <td>False</td>\n",
              "      <td>True</td>\n",
              "      <td>True</td>\n",
              "      <td>True</td>\n",
              "      <td>False</td>\n",
              "    </tr>\n",
              "    <tr>\n",
              "      <th>...</th>\n",
              "      <td>...</td>\n",
              "      <td>...</td>\n",
              "      <td>...</td>\n",
              "      <td>...</td>\n",
              "      <td>...</td>\n",
              "      <td>...</td>\n",
              "      <td>...</td>\n",
              "      <td>...</td>\n",
              "      <td>...</td>\n",
              "      <td>...</td>\n",
              "      <td>...</td>\n",
              "      <td>...</td>\n",
              "      <td>...</td>\n",
              "      <td>...</td>\n",
              "      <td>...</td>\n",
              "      <td>...</td>\n",
              "      <td>...</td>\n",
              "      <td>...</td>\n",
              "    </tr>\n",
              "    <tr>\n",
              "      <th>156387</th>\n",
              "      <td>False</td>\n",
              "      <td>False</td>\n",
              "      <td>True</td>\n",
              "      <td>False</td>\n",
              "      <td>False</td>\n",
              "      <td>False</td>\n",
              "      <td>False</td>\n",
              "      <td>False</td>\n",
              "      <td>False</td>\n",
              "      <td>False</td>\n",
              "      <td>False</td>\n",
              "      <td>False</td>\n",
              "      <td>False</td>\n",
              "      <td>False</td>\n",
              "      <td>True</td>\n",
              "      <td>True</td>\n",
              "      <td>True</td>\n",
              "      <td>False</td>\n",
              "    </tr>\n",
              "    <tr>\n",
              "      <th>156388</th>\n",
              "      <td>False</td>\n",
              "      <td>False</td>\n",
              "      <td>True</td>\n",
              "      <td>False</td>\n",
              "      <td>False</td>\n",
              "      <td>False</td>\n",
              "      <td>False</td>\n",
              "      <td>False</td>\n",
              "      <td>False</td>\n",
              "      <td>False</td>\n",
              "      <td>False</td>\n",
              "      <td>False</td>\n",
              "      <td>False</td>\n",
              "      <td>False</td>\n",
              "      <td>True</td>\n",
              "      <td>True</td>\n",
              "      <td>True</td>\n",
              "      <td>False</td>\n",
              "    </tr>\n",
              "    <tr>\n",
              "      <th>156389</th>\n",
              "      <td>False</td>\n",
              "      <td>False</td>\n",
              "      <td>True</td>\n",
              "      <td>False</td>\n",
              "      <td>False</td>\n",
              "      <td>False</td>\n",
              "      <td>False</td>\n",
              "      <td>False</td>\n",
              "      <td>False</td>\n",
              "      <td>False</td>\n",
              "      <td>False</td>\n",
              "      <td>False</td>\n",
              "      <td>False</td>\n",
              "      <td>False</td>\n",
              "      <td>True</td>\n",
              "      <td>True</td>\n",
              "      <td>True</td>\n",
              "      <td>False</td>\n",
              "    </tr>\n",
              "    <tr>\n",
              "      <th>156390</th>\n",
              "      <td>False</td>\n",
              "      <td>False</td>\n",
              "      <td>True</td>\n",
              "      <td>False</td>\n",
              "      <td>False</td>\n",
              "      <td>False</td>\n",
              "      <td>False</td>\n",
              "      <td>False</td>\n",
              "      <td>False</td>\n",
              "      <td>False</td>\n",
              "      <td>False</td>\n",
              "      <td>False</td>\n",
              "      <td>False</td>\n",
              "      <td>False</td>\n",
              "      <td>True</td>\n",
              "      <td>True</td>\n",
              "      <td>True</td>\n",
              "      <td>False</td>\n",
              "    </tr>\n",
              "    <tr>\n",
              "      <th>156391</th>\n",
              "      <td>False</td>\n",
              "      <td>False</td>\n",
              "      <td>True</td>\n",
              "      <td>False</td>\n",
              "      <td>False</td>\n",
              "      <td>False</td>\n",
              "      <td>False</td>\n",
              "      <td>False</td>\n",
              "      <td>False</td>\n",
              "      <td>False</td>\n",
              "      <td>False</td>\n",
              "      <td>False</td>\n",
              "      <td>False</td>\n",
              "      <td>False</td>\n",
              "      <td>True</td>\n",
              "      <td>True</td>\n",
              "      <td>True</td>\n",
              "      <td>False</td>\n",
              "    </tr>\n",
              "  </tbody>\n",
              "</table>\n",
              "<p>156392 rows × 18 columns</p>\n",
              "</div>\n",
              "      <button class=\"colab-df-convert\" onclick=\"convertToInteractive('df-6f25c56d-d1a4-4d01-a239-66152251ae0b')\"\n",
              "              title=\"Convert this dataframe to an interactive table.\"\n",
              "              style=\"display:none;\">\n",
              "        \n",
              "  <svg xmlns=\"http://www.w3.org/2000/svg\" height=\"24px\"viewBox=\"0 0 24 24\"\n",
              "       width=\"24px\">\n",
              "    <path d=\"M0 0h24v24H0V0z\" fill=\"none\"/>\n",
              "    <path d=\"M18.56 5.44l.94 2.06.94-2.06 2.06-.94-2.06-.94-.94-2.06-.94 2.06-2.06.94zm-11 1L8.5 8.5l.94-2.06 2.06-.94-2.06-.94L8.5 2.5l-.94 2.06-2.06.94zm10 10l.94 2.06.94-2.06 2.06-.94-2.06-.94-.94-2.06-.94 2.06-2.06.94z\"/><path d=\"M17.41 7.96l-1.37-1.37c-.4-.4-.92-.59-1.43-.59-.52 0-1.04.2-1.43.59L10.3 9.45l-7.72 7.72c-.78.78-.78 2.05 0 2.83L4 21.41c.39.39.9.59 1.41.59.51 0 1.02-.2 1.41-.59l7.78-7.78 2.81-2.81c.8-.78.8-2.07 0-2.86zM5.41 20L4 18.59l7.72-7.72 1.47 1.35L5.41 20z\"/>\n",
              "  </svg>\n",
              "      </button>\n",
              "      \n",
              "  <style>\n",
              "    .colab-df-container {\n",
              "      display:flex;\n",
              "      flex-wrap:wrap;\n",
              "      gap: 12px;\n",
              "    }\n",
              "\n",
              "    .colab-df-convert {\n",
              "      background-color: #E8F0FE;\n",
              "      border: none;\n",
              "      border-radius: 50%;\n",
              "      cursor: pointer;\n",
              "      display: none;\n",
              "      fill: #1967D2;\n",
              "      height: 32px;\n",
              "      padding: 0 0 0 0;\n",
              "      width: 32px;\n",
              "    }\n",
              "\n",
              "    .colab-df-convert:hover {\n",
              "      background-color: #E2EBFA;\n",
              "      box-shadow: 0px 1px 2px rgba(60, 64, 67, 0.3), 0px 1px 3px 1px rgba(60, 64, 67, 0.15);\n",
              "      fill: #174EA6;\n",
              "    }\n",
              "\n",
              "    [theme=dark] .colab-df-convert {\n",
              "      background-color: #3B4455;\n",
              "      fill: #D2E3FC;\n",
              "    }\n",
              "\n",
              "    [theme=dark] .colab-df-convert:hover {\n",
              "      background-color: #434B5C;\n",
              "      box-shadow: 0px 1px 3px 1px rgba(0, 0, 0, 0.15);\n",
              "      filter: drop-shadow(0px 1px 2px rgba(0, 0, 0, 0.3));\n",
              "      fill: #FFFFFF;\n",
              "    }\n",
              "  </style>\n",
              "\n",
              "      <script>\n",
              "        const buttonEl =\n",
              "          document.querySelector('#df-6f25c56d-d1a4-4d01-a239-66152251ae0b button.colab-df-convert');\n",
              "        buttonEl.style.display =\n",
              "          google.colab.kernel.accessAllowed ? 'block' : 'none';\n",
              "\n",
              "        async function convertToInteractive(key) {\n",
              "          const element = document.querySelector('#df-6f25c56d-d1a4-4d01-a239-66152251ae0b');\n",
              "          const dataTable =\n",
              "            await google.colab.kernel.invokeFunction('convertToInteractive',\n",
              "                                                     [key], {});\n",
              "          if (!dataTable) return;\n",
              "\n",
              "          const docLinkHtml = 'Like what you see? Visit the ' +\n",
              "            '<a target=\"_blank\" href=https://colab.research.google.com/notebooks/data_table.ipynb>data table notebook</a>'\n",
              "            + ' to learn more about interactive tables.';\n",
              "          element.innerHTML = '';\n",
              "          dataTable['output_type'] = 'display_data';\n",
              "          await google.colab.output.renderOutput(dataTable, element);\n",
              "          const docLink = document.createElement('div');\n",
              "          docLink.innerHTML = docLinkHtml;\n",
              "          element.appendChild(docLink);\n",
              "        }\n",
              "      </script>\n",
              "    </div>\n",
              "  </div>\n",
              "  "
            ]
          },
          "metadata": {},
          "execution_count": 19
        }
      ],
      "source": [
        "#checking fot the null values\n",
        "df.isnull()"
      ]
    },
    {
      "cell_type": "code",
      "execution_count": 20,
      "metadata": {
        "colab": {
          "base_uri": "https://localhost:8080/"
        },
        "id": "3-n7Mx9ARG9e",
        "outputId": "4da62f70-f785-4129-823d-0d7dc6507ff0"
      },
      "outputs": [
        {
          "output_type": "execute_result",
          "data": {
            "text/plain": [
              "REF_DATE                      0\n",
              "GEO                           0\n",
              "DGUID                     13944\n",
              "Vehicle type                  0\n",
              "Origin of manufacture         0\n",
              "Sales                         0\n",
              "Seasonal adjustment           0\n",
              "UOM                           0\n",
              "UOM_ID                        0\n",
              "SCALAR_FACTOR                 0\n",
              "SCALAR_ID                     0\n",
              "VECTOR                        0\n",
              "COORDINATE                    0\n",
              "VALUE                     18137\n",
              "STATUS                   138255\n",
              "SYMBOL                   156392\n",
              "TERMINATED               150590\n",
              "DECIMALS                      0\n",
              "dtype: int64"
            ]
          },
          "metadata": {},
          "execution_count": 20
        }
      ],
      "source": [
        "#summing the null values in each column\n",
        "df.isnull().sum()"
      ]
    },
    {
      "cell_type": "code",
      "execution_count": 21,
      "metadata": {
        "colab": {
          "base_uri": "https://localhost:8080/",
          "height": 131
        },
        "id": "zzliO3m4RHTy",
        "outputId": "bc79f748-6ebe-4325-e613-f7d2abc193f7"
      },
      "outputs": [
        {
          "output_type": "execute_result",
          "data": {
            "text/plain": [
              "Empty DataFrame\n",
              "Columns: [REF_DATE, GEO, DGUID, Vehicle type, Origin of manufacture, Sales, Seasonal adjustment, UOM, UOM_ID, SCALAR_FACTOR, SCALAR_ID, VECTOR, COORDINATE, VALUE, STATUS, SYMBOL, TERMINATED, DECIMALS]\n",
              "Index: []"
            ],
            "text/html": [
              "\n",
              "  <div id=\"df-335bdfd5-b982-4b33-a392-608791995355\">\n",
              "    <div class=\"colab-df-container\">\n",
              "      <div>\n",
              "<style scoped>\n",
              "    .dataframe tbody tr th:only-of-type {\n",
              "        vertical-align: middle;\n",
              "    }\n",
              "\n",
              "    .dataframe tbody tr th {\n",
              "        vertical-align: top;\n",
              "    }\n",
              "\n",
              "    .dataframe thead th {\n",
              "        text-align: right;\n",
              "    }\n",
              "</style>\n",
              "<table border=\"1\" class=\"dataframe\">\n",
              "  <thead>\n",
              "    <tr style=\"text-align: right;\">\n",
              "      <th></th>\n",
              "      <th>REF_DATE</th>\n",
              "      <th>GEO</th>\n",
              "      <th>DGUID</th>\n",
              "      <th>Vehicle type</th>\n",
              "      <th>Origin of manufacture</th>\n",
              "      <th>Sales</th>\n",
              "      <th>Seasonal adjustment</th>\n",
              "      <th>UOM</th>\n",
              "      <th>UOM_ID</th>\n",
              "      <th>SCALAR_FACTOR</th>\n",
              "      <th>SCALAR_ID</th>\n",
              "      <th>VECTOR</th>\n",
              "      <th>COORDINATE</th>\n",
              "      <th>VALUE</th>\n",
              "      <th>STATUS</th>\n",
              "      <th>SYMBOL</th>\n",
              "      <th>TERMINATED</th>\n",
              "      <th>DECIMALS</th>\n",
              "    </tr>\n",
              "  </thead>\n",
              "  <tbody>\n",
              "  </tbody>\n",
              "</table>\n",
              "</div>\n",
              "      <button class=\"colab-df-convert\" onclick=\"convertToInteractive('df-335bdfd5-b982-4b33-a392-608791995355')\"\n",
              "              title=\"Convert this dataframe to an interactive table.\"\n",
              "              style=\"display:none;\">\n",
              "        \n",
              "  <svg xmlns=\"http://www.w3.org/2000/svg\" height=\"24px\"viewBox=\"0 0 24 24\"\n",
              "       width=\"24px\">\n",
              "    <path d=\"M0 0h24v24H0V0z\" fill=\"none\"/>\n",
              "    <path d=\"M18.56 5.44l.94 2.06.94-2.06 2.06-.94-2.06-.94-.94-2.06-.94 2.06-2.06.94zm-11 1L8.5 8.5l.94-2.06 2.06-.94-2.06-.94L8.5 2.5l-.94 2.06-2.06.94zm10 10l.94 2.06.94-2.06 2.06-.94-2.06-.94-.94-2.06-.94 2.06-2.06.94z\"/><path d=\"M17.41 7.96l-1.37-1.37c-.4-.4-.92-.59-1.43-.59-.52 0-1.04.2-1.43.59L10.3 9.45l-7.72 7.72c-.78.78-.78 2.05 0 2.83L4 21.41c.39.39.9.59 1.41.59.51 0 1.02-.2 1.41-.59l7.78-7.78 2.81-2.81c.8-.78.8-2.07 0-2.86zM5.41 20L4 18.59l7.72-7.72 1.47 1.35L5.41 20z\"/>\n",
              "  </svg>\n",
              "      </button>\n",
              "      \n",
              "  <style>\n",
              "    .colab-df-container {\n",
              "      display:flex;\n",
              "      flex-wrap:wrap;\n",
              "      gap: 12px;\n",
              "    }\n",
              "\n",
              "    .colab-df-convert {\n",
              "      background-color: #E8F0FE;\n",
              "      border: none;\n",
              "      border-radius: 50%;\n",
              "      cursor: pointer;\n",
              "      display: none;\n",
              "      fill: #1967D2;\n",
              "      height: 32px;\n",
              "      padding: 0 0 0 0;\n",
              "      width: 32px;\n",
              "    }\n",
              "\n",
              "    .colab-df-convert:hover {\n",
              "      background-color: #E2EBFA;\n",
              "      box-shadow: 0px 1px 2px rgba(60, 64, 67, 0.3), 0px 1px 3px 1px rgba(60, 64, 67, 0.15);\n",
              "      fill: #174EA6;\n",
              "    }\n",
              "\n",
              "    [theme=dark] .colab-df-convert {\n",
              "      background-color: #3B4455;\n",
              "      fill: #D2E3FC;\n",
              "    }\n",
              "\n",
              "    [theme=dark] .colab-df-convert:hover {\n",
              "      background-color: #434B5C;\n",
              "      box-shadow: 0px 1px 3px 1px rgba(0, 0, 0, 0.15);\n",
              "      filter: drop-shadow(0px 1px 2px rgba(0, 0, 0, 0.3));\n",
              "      fill: #FFFFFF;\n",
              "    }\n",
              "  </style>\n",
              "\n",
              "      <script>\n",
              "        const buttonEl =\n",
              "          document.querySelector('#df-335bdfd5-b982-4b33-a392-608791995355 button.colab-df-convert');\n",
              "        buttonEl.style.display =\n",
              "          google.colab.kernel.accessAllowed ? 'block' : 'none';\n",
              "\n",
              "        async function convertToInteractive(key) {\n",
              "          const element = document.querySelector('#df-335bdfd5-b982-4b33-a392-608791995355');\n",
              "          const dataTable =\n",
              "            await google.colab.kernel.invokeFunction('convertToInteractive',\n",
              "                                                     [key], {});\n",
              "          if (!dataTable) return;\n",
              "\n",
              "          const docLinkHtml = 'Like what you see? Visit the ' +\n",
              "            '<a target=\"_blank\" href=https://colab.research.google.com/notebooks/data_table.ipynb>data table notebook</a>'\n",
              "            + ' to learn more about interactive tables.';\n",
              "          element.innerHTML = '';\n",
              "          dataTable['output_type'] = 'display_data';\n",
              "          await google.colab.output.renderOutput(dataTable, element);\n",
              "          const docLink = document.createElement('div');\n",
              "          docLink.innerHTML = docLinkHtml;\n",
              "          element.appendChild(docLink);\n",
              "        }\n",
              "      </script>\n",
              "    </div>\n",
              "  </div>\n",
              "  "
            ]
          },
          "metadata": {},
          "execution_count": 21
        }
      ],
      "source": [
        "#dropping the NA values\n",
        "df.dropna()"
      ]
    },
    {
      "cell_type": "code",
      "execution_count": 22,
      "metadata": {
        "colab": {
          "base_uri": "https://localhost:8080/"
        },
        "id": "lXL29fIlRLzm",
        "outputId": "1e695849-0c80-446a-a416-a9580b3e17b8"
      },
      "outputs": [
        {
          "output_type": "execute_result",
          "data": {
            "text/plain": [
              "(156392, 18)"
            ]
          },
          "metadata": {},
          "execution_count": 22
        }
      ],
      "source": [
        "#printing number of rows and columns\n",
        "df.shape"
      ]
    },
    {
      "cell_type": "code",
      "execution_count": 23,
      "metadata": {
        "colab": {
          "base_uri": "https://localhost:8080/"
        },
        "id": "yLhCmgFMRPY5",
        "outputId": "8691f84b-a819-4cba-922d-b6cae5b9a8ab"
      },
      "outputs": [
        {
          "output_type": "execute_result",
          "data": {
            "text/plain": [
              "Index(['REF_DATE', 'GEO', 'DGUID', 'Vehicletype', 'Originofmanufacture',\n",
              "       'Sales', 'Seasonaladjustment', 'UOM', 'UOM_ID', 'SCALAR_FACTOR',\n",
              "       'SCALAR_ID', 'VECTOR', 'COORDINATE', 'VALUE', 'STATUS', 'SYMBOL',\n",
              "       'TERMINATED', 'DECIMALS'],\n",
              "      dtype='object')"
            ]
          },
          "metadata": {},
          "execution_count": 23
        }
      ],
      "source": [
        "#removing black spaces from column names\n",
        "df.columns = df.columns.str.replace(' ', '')\n",
        "df.columns"
      ]
    },
    {
      "cell_type": "code",
      "execution_count": 24,
      "metadata": {
        "colab": {
          "base_uri": "https://localhost:8080/",
          "height": 440
        },
        "id": "kyzRff1bNGFW",
        "outputId": "838eff22-819a-409d-b890-c2d210b3181d"
      },
      "outputs": [
        {
          "output_type": "execute_result",
          "data": {
            "text/plain": [
              "  REF_DATE     GEO           DGUID                Vehicletype  \\\n",
              "0  1946-01  Canada  2016A000011124  Total, new motor vehicles   \n",
              "1  1946-01  Canada  2016A000011124  Total, new motor vehicles   \n",
              "2  1946-01  Canada  2016A000011124             Passenger cars   \n",
              "3  1946-01  Canada  2016A000011124             Passenger cars   \n",
              "4  1946-01  Canada  2016A000011124             Passenger cars   \n",
              "5  1946-01  Canada  2016A000011124                     Trucks   \n",
              "\n",
              "             Originofmanufacture    Sales   Seasonaladjustment      UOM  \\\n",
              "0  Total, country of manufacture    Units           Unadjusted    Units   \n",
              "1  Total, country of manufacture  Dollars           Unadjusted  Dollars   \n",
              "2  Total, country of manufacture    Units           Unadjusted    Units   \n",
              "3  Total, country of manufacture    Units  Seasonally adjusted    Units   \n",
              "4  Total, country of manufacture  Dollars           Unadjusted  Dollars   \n",
              "5  Total, country of manufacture    Units           Unadjusted    Units   \n",
              "\n",
              "   UOM_ID SCALAR_FACTOR  SCALAR_ID     VECTOR COORDINATE   VALUE STATUS  \\\n",
              "0     300        units           0  v42169911  1.1.1.1.1  2756.0    NaN   \n",
              "1      81     thousands          3  v42169913  1.1.1.2.1  4507.0    NaN   \n",
              "2     300        units           0  v42169920  1.2.1.1.1  1102.0    NaN   \n",
              "3     300        units           0  v42169921  1.2.1.1.2  1468.0    NaN   \n",
              "4      81     thousands          3  v42169922  1.2.1.2.1  1604.0    NaN   \n",
              "5     300        units           0  v42169933  1.3.1.1.1  1654.0    NaN   \n",
              "\n",
              "   SYMBOL TERMINATED  DECIMALS  \n",
              "0     NaN        NaN         0  \n",
              "1     NaN        NaN         0  \n",
              "2     NaN        NaN         0  \n",
              "3     NaN          t         0  \n",
              "4     NaN        NaN         0  \n",
              "5     NaN        NaN         0  "
            ],
            "text/html": [
              "\n",
              "  <div id=\"df-cbdb33c8-8d5b-4344-be6e-fa2a02fef905\">\n",
              "    <div class=\"colab-df-container\">\n",
              "      <div>\n",
              "<style scoped>\n",
              "    .dataframe tbody tr th:only-of-type {\n",
              "        vertical-align: middle;\n",
              "    }\n",
              "\n",
              "    .dataframe tbody tr th {\n",
              "        vertical-align: top;\n",
              "    }\n",
              "\n",
              "    .dataframe thead th {\n",
              "        text-align: right;\n",
              "    }\n",
              "</style>\n",
              "<table border=\"1\" class=\"dataframe\">\n",
              "  <thead>\n",
              "    <tr style=\"text-align: right;\">\n",
              "      <th></th>\n",
              "      <th>REF_DATE</th>\n",
              "      <th>GEO</th>\n",
              "      <th>DGUID</th>\n",
              "      <th>Vehicletype</th>\n",
              "      <th>Originofmanufacture</th>\n",
              "      <th>Sales</th>\n",
              "      <th>Seasonaladjustment</th>\n",
              "      <th>UOM</th>\n",
              "      <th>UOM_ID</th>\n",
              "      <th>SCALAR_FACTOR</th>\n",
              "      <th>SCALAR_ID</th>\n",
              "      <th>VECTOR</th>\n",
              "      <th>COORDINATE</th>\n",
              "      <th>VALUE</th>\n",
              "      <th>STATUS</th>\n",
              "      <th>SYMBOL</th>\n",
              "      <th>TERMINATED</th>\n",
              "      <th>DECIMALS</th>\n",
              "    </tr>\n",
              "  </thead>\n",
              "  <tbody>\n",
              "    <tr>\n",
              "      <th>0</th>\n",
              "      <td>1946-01</td>\n",
              "      <td>Canada</td>\n",
              "      <td>2016A000011124</td>\n",
              "      <td>Total, new motor vehicles</td>\n",
              "      <td>Total, country of manufacture</td>\n",
              "      <td>Units</td>\n",
              "      <td>Unadjusted</td>\n",
              "      <td>Units</td>\n",
              "      <td>300</td>\n",
              "      <td>units</td>\n",
              "      <td>0</td>\n",
              "      <td>v42169911</td>\n",
              "      <td>1.1.1.1.1</td>\n",
              "      <td>2756.0</td>\n",
              "      <td>NaN</td>\n",
              "      <td>NaN</td>\n",
              "      <td>NaN</td>\n",
              "      <td>0</td>\n",
              "    </tr>\n",
              "    <tr>\n",
              "      <th>1</th>\n",
              "      <td>1946-01</td>\n",
              "      <td>Canada</td>\n",
              "      <td>2016A000011124</td>\n",
              "      <td>Total, new motor vehicles</td>\n",
              "      <td>Total, country of manufacture</td>\n",
              "      <td>Dollars</td>\n",
              "      <td>Unadjusted</td>\n",
              "      <td>Dollars</td>\n",
              "      <td>81</td>\n",
              "      <td>thousands</td>\n",
              "      <td>3</td>\n",
              "      <td>v42169913</td>\n",
              "      <td>1.1.1.2.1</td>\n",
              "      <td>4507.0</td>\n",
              "      <td>NaN</td>\n",
              "      <td>NaN</td>\n",
              "      <td>NaN</td>\n",
              "      <td>0</td>\n",
              "    </tr>\n",
              "    <tr>\n",
              "      <th>2</th>\n",
              "      <td>1946-01</td>\n",
              "      <td>Canada</td>\n",
              "      <td>2016A000011124</td>\n",
              "      <td>Passenger cars</td>\n",
              "      <td>Total, country of manufacture</td>\n",
              "      <td>Units</td>\n",
              "      <td>Unadjusted</td>\n",
              "      <td>Units</td>\n",
              "      <td>300</td>\n",
              "      <td>units</td>\n",
              "      <td>0</td>\n",
              "      <td>v42169920</td>\n",
              "      <td>1.2.1.1.1</td>\n",
              "      <td>1102.0</td>\n",
              "      <td>NaN</td>\n",
              "      <td>NaN</td>\n",
              "      <td>NaN</td>\n",
              "      <td>0</td>\n",
              "    </tr>\n",
              "    <tr>\n",
              "      <th>3</th>\n",
              "      <td>1946-01</td>\n",
              "      <td>Canada</td>\n",
              "      <td>2016A000011124</td>\n",
              "      <td>Passenger cars</td>\n",
              "      <td>Total, country of manufacture</td>\n",
              "      <td>Units</td>\n",
              "      <td>Seasonally adjusted</td>\n",
              "      <td>Units</td>\n",
              "      <td>300</td>\n",
              "      <td>units</td>\n",
              "      <td>0</td>\n",
              "      <td>v42169921</td>\n",
              "      <td>1.2.1.1.2</td>\n",
              "      <td>1468.0</td>\n",
              "      <td>NaN</td>\n",
              "      <td>NaN</td>\n",
              "      <td>t</td>\n",
              "      <td>0</td>\n",
              "    </tr>\n",
              "    <tr>\n",
              "      <th>4</th>\n",
              "      <td>1946-01</td>\n",
              "      <td>Canada</td>\n",
              "      <td>2016A000011124</td>\n",
              "      <td>Passenger cars</td>\n",
              "      <td>Total, country of manufacture</td>\n",
              "      <td>Dollars</td>\n",
              "      <td>Unadjusted</td>\n",
              "      <td>Dollars</td>\n",
              "      <td>81</td>\n",
              "      <td>thousands</td>\n",
              "      <td>3</td>\n",
              "      <td>v42169922</td>\n",
              "      <td>1.2.1.2.1</td>\n",
              "      <td>1604.0</td>\n",
              "      <td>NaN</td>\n",
              "      <td>NaN</td>\n",
              "      <td>NaN</td>\n",
              "      <td>0</td>\n",
              "    </tr>\n",
              "    <tr>\n",
              "      <th>5</th>\n",
              "      <td>1946-01</td>\n",
              "      <td>Canada</td>\n",
              "      <td>2016A000011124</td>\n",
              "      <td>Trucks</td>\n",
              "      <td>Total, country of manufacture</td>\n",
              "      <td>Units</td>\n",
              "      <td>Unadjusted</td>\n",
              "      <td>Units</td>\n",
              "      <td>300</td>\n",
              "      <td>units</td>\n",
              "      <td>0</td>\n",
              "      <td>v42169933</td>\n",
              "      <td>1.3.1.1.1</td>\n",
              "      <td>1654.0</td>\n",
              "      <td>NaN</td>\n",
              "      <td>NaN</td>\n",
              "      <td>NaN</td>\n",
              "      <td>0</td>\n",
              "    </tr>\n",
              "  </tbody>\n",
              "</table>\n",
              "</div>\n",
              "      <button class=\"colab-df-convert\" onclick=\"convertToInteractive('df-cbdb33c8-8d5b-4344-be6e-fa2a02fef905')\"\n",
              "              title=\"Convert this dataframe to an interactive table.\"\n",
              "              style=\"display:none;\">\n",
              "        \n",
              "  <svg xmlns=\"http://www.w3.org/2000/svg\" height=\"24px\"viewBox=\"0 0 24 24\"\n",
              "       width=\"24px\">\n",
              "    <path d=\"M0 0h24v24H0V0z\" fill=\"none\"/>\n",
              "    <path d=\"M18.56 5.44l.94 2.06.94-2.06 2.06-.94-2.06-.94-.94-2.06-.94 2.06-2.06.94zm-11 1L8.5 8.5l.94-2.06 2.06-.94-2.06-.94L8.5 2.5l-.94 2.06-2.06.94zm10 10l.94 2.06.94-2.06 2.06-.94-2.06-.94-.94-2.06-.94 2.06-2.06.94z\"/><path d=\"M17.41 7.96l-1.37-1.37c-.4-.4-.92-.59-1.43-.59-.52 0-1.04.2-1.43.59L10.3 9.45l-7.72 7.72c-.78.78-.78 2.05 0 2.83L4 21.41c.39.39.9.59 1.41.59.51 0 1.02-.2 1.41-.59l7.78-7.78 2.81-2.81c.8-.78.8-2.07 0-2.86zM5.41 20L4 18.59l7.72-7.72 1.47 1.35L5.41 20z\"/>\n",
              "  </svg>\n",
              "      </button>\n",
              "      \n",
              "  <style>\n",
              "    .colab-df-container {\n",
              "      display:flex;\n",
              "      flex-wrap:wrap;\n",
              "      gap: 12px;\n",
              "    }\n",
              "\n",
              "    .colab-df-convert {\n",
              "      background-color: #E8F0FE;\n",
              "      border: none;\n",
              "      border-radius: 50%;\n",
              "      cursor: pointer;\n",
              "      display: none;\n",
              "      fill: #1967D2;\n",
              "      height: 32px;\n",
              "      padding: 0 0 0 0;\n",
              "      width: 32px;\n",
              "    }\n",
              "\n",
              "    .colab-df-convert:hover {\n",
              "      background-color: #E2EBFA;\n",
              "      box-shadow: 0px 1px 2px rgba(60, 64, 67, 0.3), 0px 1px 3px 1px rgba(60, 64, 67, 0.15);\n",
              "      fill: #174EA6;\n",
              "    }\n",
              "\n",
              "    [theme=dark] .colab-df-convert {\n",
              "      background-color: #3B4455;\n",
              "      fill: #D2E3FC;\n",
              "    }\n",
              "\n",
              "    [theme=dark] .colab-df-convert:hover {\n",
              "      background-color: #434B5C;\n",
              "      box-shadow: 0px 1px 3px 1px rgba(0, 0, 0, 0.15);\n",
              "      filter: drop-shadow(0px 1px 2px rgba(0, 0, 0, 0.3));\n",
              "      fill: #FFFFFF;\n",
              "    }\n",
              "  </style>\n",
              "\n",
              "      <script>\n",
              "        const buttonEl =\n",
              "          document.querySelector('#df-cbdb33c8-8d5b-4344-be6e-fa2a02fef905 button.colab-df-convert');\n",
              "        buttonEl.style.display =\n",
              "          google.colab.kernel.accessAllowed ? 'block' : 'none';\n",
              "\n",
              "        async function convertToInteractive(key) {\n",
              "          const element = document.querySelector('#df-cbdb33c8-8d5b-4344-be6e-fa2a02fef905');\n",
              "          const dataTable =\n",
              "            await google.colab.kernel.invokeFunction('convertToInteractive',\n",
              "                                                     [key], {});\n",
              "          if (!dataTable) return;\n",
              "\n",
              "          const docLinkHtml = 'Like what you see? Visit the ' +\n",
              "            '<a target=\"_blank\" href=https://colab.research.google.com/notebooks/data_table.ipynb>data table notebook</a>'\n",
              "            + ' to learn more about interactive tables.';\n",
              "          element.innerHTML = '';\n",
              "          dataTable['output_type'] = 'display_data';\n",
              "          await google.colab.output.renderOutput(dataTable, element);\n",
              "          const docLink = document.createElement('div');\n",
              "          docLink.innerHTML = docLinkHtml;\n",
              "          element.appendChild(docLink);\n",
              "        }\n",
              "      </script>\n",
              "    </div>\n",
              "  </div>\n",
              "  "
            ]
          },
          "metadata": {},
          "execution_count": 24
        }
      ],
      "source": [
        "#[row:column]\n",
        "df.loc[:5]   "
      ]
    },
    {
      "cell_type": "code",
      "execution_count": 26,
      "metadata": {
        "colab": {
          "base_uri": "https://localhost:8080/",
          "height": 237
        },
        "id": "eSaI14fHNvL6",
        "outputId": "3d97921c-69d0-4dc2-cc9f-746219351470"
      },
      "outputs": [
        {
          "output_type": "execute_result",
          "data": {
            "text/plain": [
              "                 Vehicletype    Sales   VALUE\n",
              "0  Total, new motor vehicles    Units  2756.0\n",
              "1  Total, new motor vehicles  Dollars  4507.0\n",
              "2             Passenger cars    Units  1102.0\n",
              "3             Passenger cars    Units  1468.0\n",
              "4             Passenger cars  Dollars  1604.0\n",
              "5                     Trucks    Units  1654.0"
            ],
            "text/html": [
              "\n",
              "  <div id=\"df-9ef48da6-17da-4286-9851-eb1a714cec34\">\n",
              "    <div class=\"colab-df-container\">\n",
              "      <div>\n",
              "<style scoped>\n",
              "    .dataframe tbody tr th:only-of-type {\n",
              "        vertical-align: middle;\n",
              "    }\n",
              "\n",
              "    .dataframe tbody tr th {\n",
              "        vertical-align: top;\n",
              "    }\n",
              "\n",
              "    .dataframe thead th {\n",
              "        text-align: right;\n",
              "    }\n",
              "</style>\n",
              "<table border=\"1\" class=\"dataframe\">\n",
              "  <thead>\n",
              "    <tr style=\"text-align: right;\">\n",
              "      <th></th>\n",
              "      <th>Vehicletype</th>\n",
              "      <th>Sales</th>\n",
              "      <th>VALUE</th>\n",
              "    </tr>\n",
              "  </thead>\n",
              "  <tbody>\n",
              "    <tr>\n",
              "      <th>0</th>\n",
              "      <td>Total, new motor vehicles</td>\n",
              "      <td>Units</td>\n",
              "      <td>2756.0</td>\n",
              "    </tr>\n",
              "    <tr>\n",
              "      <th>1</th>\n",
              "      <td>Total, new motor vehicles</td>\n",
              "      <td>Dollars</td>\n",
              "      <td>4507.0</td>\n",
              "    </tr>\n",
              "    <tr>\n",
              "      <th>2</th>\n",
              "      <td>Passenger cars</td>\n",
              "      <td>Units</td>\n",
              "      <td>1102.0</td>\n",
              "    </tr>\n",
              "    <tr>\n",
              "      <th>3</th>\n",
              "      <td>Passenger cars</td>\n",
              "      <td>Units</td>\n",
              "      <td>1468.0</td>\n",
              "    </tr>\n",
              "    <tr>\n",
              "      <th>4</th>\n",
              "      <td>Passenger cars</td>\n",
              "      <td>Dollars</td>\n",
              "      <td>1604.0</td>\n",
              "    </tr>\n",
              "    <tr>\n",
              "      <th>5</th>\n",
              "      <td>Trucks</td>\n",
              "      <td>Units</td>\n",
              "      <td>1654.0</td>\n",
              "    </tr>\n",
              "  </tbody>\n",
              "</table>\n",
              "</div>\n",
              "      <button class=\"colab-df-convert\" onclick=\"convertToInteractive('df-9ef48da6-17da-4286-9851-eb1a714cec34')\"\n",
              "              title=\"Convert this dataframe to an interactive table.\"\n",
              "              style=\"display:none;\">\n",
              "        \n",
              "  <svg xmlns=\"http://www.w3.org/2000/svg\" height=\"24px\"viewBox=\"0 0 24 24\"\n",
              "       width=\"24px\">\n",
              "    <path d=\"M0 0h24v24H0V0z\" fill=\"none\"/>\n",
              "    <path d=\"M18.56 5.44l.94 2.06.94-2.06 2.06-.94-2.06-.94-.94-2.06-.94 2.06-2.06.94zm-11 1L8.5 8.5l.94-2.06 2.06-.94-2.06-.94L8.5 2.5l-.94 2.06-2.06.94zm10 10l.94 2.06.94-2.06 2.06-.94-2.06-.94-.94-2.06-.94 2.06-2.06.94z\"/><path d=\"M17.41 7.96l-1.37-1.37c-.4-.4-.92-.59-1.43-.59-.52 0-1.04.2-1.43.59L10.3 9.45l-7.72 7.72c-.78.78-.78 2.05 0 2.83L4 21.41c.39.39.9.59 1.41.59.51 0 1.02-.2 1.41-.59l7.78-7.78 2.81-2.81c.8-.78.8-2.07 0-2.86zM5.41 20L4 18.59l7.72-7.72 1.47 1.35L5.41 20z\"/>\n",
              "  </svg>\n",
              "      </button>\n",
              "      \n",
              "  <style>\n",
              "    .colab-df-container {\n",
              "      display:flex;\n",
              "      flex-wrap:wrap;\n",
              "      gap: 12px;\n",
              "    }\n",
              "\n",
              "    .colab-df-convert {\n",
              "      background-color: #E8F0FE;\n",
              "      border: none;\n",
              "      border-radius: 50%;\n",
              "      cursor: pointer;\n",
              "      display: none;\n",
              "      fill: #1967D2;\n",
              "      height: 32px;\n",
              "      padding: 0 0 0 0;\n",
              "      width: 32px;\n",
              "    }\n",
              "\n",
              "    .colab-df-convert:hover {\n",
              "      background-color: #E2EBFA;\n",
              "      box-shadow: 0px 1px 2px rgba(60, 64, 67, 0.3), 0px 1px 3px 1px rgba(60, 64, 67, 0.15);\n",
              "      fill: #174EA6;\n",
              "    }\n",
              "\n",
              "    [theme=dark] .colab-df-convert {\n",
              "      background-color: #3B4455;\n",
              "      fill: #D2E3FC;\n",
              "    }\n",
              "\n",
              "    [theme=dark] .colab-df-convert:hover {\n",
              "      background-color: #434B5C;\n",
              "      box-shadow: 0px 1px 3px 1px rgba(0, 0, 0, 0.15);\n",
              "      filter: drop-shadow(0px 1px 2px rgba(0, 0, 0, 0.3));\n",
              "      fill: #FFFFFF;\n",
              "    }\n",
              "  </style>\n",
              "\n",
              "      <script>\n",
              "        const buttonEl =\n",
              "          document.querySelector('#df-9ef48da6-17da-4286-9851-eb1a714cec34 button.colab-df-convert');\n",
              "        buttonEl.style.display =\n",
              "          google.colab.kernel.accessAllowed ? 'block' : 'none';\n",
              "\n",
              "        async function convertToInteractive(key) {\n",
              "          const element = document.querySelector('#df-9ef48da6-17da-4286-9851-eb1a714cec34');\n",
              "          const dataTable =\n",
              "            await google.colab.kernel.invokeFunction('convertToInteractive',\n",
              "                                                     [key], {});\n",
              "          if (!dataTable) return;\n",
              "\n",
              "          const docLinkHtml = 'Like what you see? Visit the ' +\n",
              "            '<a target=\"_blank\" href=https://colab.research.google.com/notebooks/data_table.ipynb>data table notebook</a>'\n",
              "            + ' to learn more about interactive tables.';\n",
              "          element.innerHTML = '';\n",
              "          dataTable['output_type'] = 'display_data';\n",
              "          await google.colab.output.renderOutput(dataTable, element);\n",
              "          const docLink = document.createElement('div');\n",
              "          docLink.innerHTML = docLinkHtml;\n",
              "          element.appendChild(docLink);\n",
              "        }\n",
              "      </script>\n",
              "    </div>\n",
              "  </div>\n",
              "  "
            ]
          },
          "metadata": {},
          "execution_count": 26
        }
      ],
      "source": [
        "#print particular cloumns and rows\n",
        "df.loc[:5, [\"Vehicletype\",\"Sales\", \"VALUE\"]]"
      ]
    },
    {
      "cell_type": "code",
      "execution_count": 27,
      "metadata": {
        "id": "Swb8JOWRONUO",
        "colab": {
          "base_uri": "https://localhost:8080/",
          "height": 357
        },
        "outputId": "8179c701-ecd9-420d-a977-80d690463713"
      },
      "outputs": [
        {
          "output_type": "execute_result",
          "data": {
            "text/plain": [
              "   REF_DATE     GEO           DGUID     Vehicletype  \\\n",
              "2   1946-01  Canada  2016A000011124  Passenger cars   \n",
              "3   1946-01  Canada  2016A000011124  Passenger cars   \n",
              "4   1946-01  Canada  2016A000011124  Passenger cars   \n",
              "10  1946-02  Canada  2016A000011124  Passenger cars   \n",
              "11  1946-02  Canada  2016A000011124  Passenger cars   \n",
              "\n",
              "              Originofmanufacture    Sales   Seasonaladjustment      UOM  \\\n",
              "2   Total, country of manufacture    Units           Unadjusted    Units   \n",
              "3   Total, country of manufacture    Units  Seasonally adjusted    Units   \n",
              "4   Total, country of manufacture  Dollars           Unadjusted  Dollars   \n",
              "10  Total, country of manufacture    Units           Unadjusted    Units   \n",
              "11  Total, country of manufacture    Units  Seasonally adjusted    Units   \n",
              "\n",
              "    UOM_ID SCALAR_FACTOR  SCALAR_ID     VECTOR COORDINATE   VALUE STATUS  \\\n",
              "2      300        units           0  v42169920  1.2.1.1.1  1102.0    NaN   \n",
              "3      300        units           0  v42169921  1.2.1.1.2  1468.0    NaN   \n",
              "4       81     thousands          3  v42169922  1.2.1.2.1  1604.0    NaN   \n",
              "10     300        units           0  v42169920  1.2.1.1.1  1609.0    NaN   \n",
              "11     300        units           0  v42169921  1.2.1.1.2  2014.0    NaN   \n",
              "\n",
              "    SYMBOL TERMINATED  DECIMALS  \n",
              "2      NaN        NaN         0  \n",
              "3      NaN          t         0  \n",
              "4      NaN        NaN         0  \n",
              "10     NaN        NaN         0  \n",
              "11     NaN          t         0  "
            ],
            "text/html": [
              "\n",
              "  <div id=\"df-f346cdfb-cf23-49c2-8ed2-773a941251e1\">\n",
              "    <div class=\"colab-df-container\">\n",
              "      <div>\n",
              "<style scoped>\n",
              "    .dataframe tbody tr th:only-of-type {\n",
              "        vertical-align: middle;\n",
              "    }\n",
              "\n",
              "    .dataframe tbody tr th {\n",
              "        vertical-align: top;\n",
              "    }\n",
              "\n",
              "    .dataframe thead th {\n",
              "        text-align: right;\n",
              "    }\n",
              "</style>\n",
              "<table border=\"1\" class=\"dataframe\">\n",
              "  <thead>\n",
              "    <tr style=\"text-align: right;\">\n",
              "      <th></th>\n",
              "      <th>REF_DATE</th>\n",
              "      <th>GEO</th>\n",
              "      <th>DGUID</th>\n",
              "      <th>Vehicletype</th>\n",
              "      <th>Originofmanufacture</th>\n",
              "      <th>Sales</th>\n",
              "      <th>Seasonaladjustment</th>\n",
              "      <th>UOM</th>\n",
              "      <th>UOM_ID</th>\n",
              "      <th>SCALAR_FACTOR</th>\n",
              "      <th>SCALAR_ID</th>\n",
              "      <th>VECTOR</th>\n",
              "      <th>COORDINATE</th>\n",
              "      <th>VALUE</th>\n",
              "      <th>STATUS</th>\n",
              "      <th>SYMBOL</th>\n",
              "      <th>TERMINATED</th>\n",
              "      <th>DECIMALS</th>\n",
              "    </tr>\n",
              "  </thead>\n",
              "  <tbody>\n",
              "    <tr>\n",
              "      <th>2</th>\n",
              "      <td>1946-01</td>\n",
              "      <td>Canada</td>\n",
              "      <td>2016A000011124</td>\n",
              "      <td>Passenger cars</td>\n",
              "      <td>Total, country of manufacture</td>\n",
              "      <td>Units</td>\n",
              "      <td>Unadjusted</td>\n",
              "      <td>Units</td>\n",
              "      <td>300</td>\n",
              "      <td>units</td>\n",
              "      <td>0</td>\n",
              "      <td>v42169920</td>\n",
              "      <td>1.2.1.1.1</td>\n",
              "      <td>1102.0</td>\n",
              "      <td>NaN</td>\n",
              "      <td>NaN</td>\n",
              "      <td>NaN</td>\n",
              "      <td>0</td>\n",
              "    </tr>\n",
              "    <tr>\n",
              "      <th>3</th>\n",
              "      <td>1946-01</td>\n",
              "      <td>Canada</td>\n",
              "      <td>2016A000011124</td>\n",
              "      <td>Passenger cars</td>\n",
              "      <td>Total, country of manufacture</td>\n",
              "      <td>Units</td>\n",
              "      <td>Seasonally adjusted</td>\n",
              "      <td>Units</td>\n",
              "      <td>300</td>\n",
              "      <td>units</td>\n",
              "      <td>0</td>\n",
              "      <td>v42169921</td>\n",
              "      <td>1.2.1.1.2</td>\n",
              "      <td>1468.0</td>\n",
              "      <td>NaN</td>\n",
              "      <td>NaN</td>\n",
              "      <td>t</td>\n",
              "      <td>0</td>\n",
              "    </tr>\n",
              "    <tr>\n",
              "      <th>4</th>\n",
              "      <td>1946-01</td>\n",
              "      <td>Canada</td>\n",
              "      <td>2016A000011124</td>\n",
              "      <td>Passenger cars</td>\n",
              "      <td>Total, country of manufacture</td>\n",
              "      <td>Dollars</td>\n",
              "      <td>Unadjusted</td>\n",
              "      <td>Dollars</td>\n",
              "      <td>81</td>\n",
              "      <td>thousands</td>\n",
              "      <td>3</td>\n",
              "      <td>v42169922</td>\n",
              "      <td>1.2.1.2.1</td>\n",
              "      <td>1604.0</td>\n",
              "      <td>NaN</td>\n",
              "      <td>NaN</td>\n",
              "      <td>NaN</td>\n",
              "      <td>0</td>\n",
              "    </tr>\n",
              "    <tr>\n",
              "      <th>10</th>\n",
              "      <td>1946-02</td>\n",
              "      <td>Canada</td>\n",
              "      <td>2016A000011124</td>\n",
              "      <td>Passenger cars</td>\n",
              "      <td>Total, country of manufacture</td>\n",
              "      <td>Units</td>\n",
              "      <td>Unadjusted</td>\n",
              "      <td>Units</td>\n",
              "      <td>300</td>\n",
              "      <td>units</td>\n",
              "      <td>0</td>\n",
              "      <td>v42169920</td>\n",
              "      <td>1.2.1.1.1</td>\n",
              "      <td>1609.0</td>\n",
              "      <td>NaN</td>\n",
              "      <td>NaN</td>\n",
              "      <td>NaN</td>\n",
              "      <td>0</td>\n",
              "    </tr>\n",
              "    <tr>\n",
              "      <th>11</th>\n",
              "      <td>1946-02</td>\n",
              "      <td>Canada</td>\n",
              "      <td>2016A000011124</td>\n",
              "      <td>Passenger cars</td>\n",
              "      <td>Total, country of manufacture</td>\n",
              "      <td>Units</td>\n",
              "      <td>Seasonally adjusted</td>\n",
              "      <td>Units</td>\n",
              "      <td>300</td>\n",
              "      <td>units</td>\n",
              "      <td>0</td>\n",
              "      <td>v42169921</td>\n",
              "      <td>1.2.1.1.2</td>\n",
              "      <td>2014.0</td>\n",
              "      <td>NaN</td>\n",
              "      <td>NaN</td>\n",
              "      <td>t</td>\n",
              "      <td>0</td>\n",
              "    </tr>\n",
              "  </tbody>\n",
              "</table>\n",
              "</div>\n",
              "      <button class=\"colab-df-convert\" onclick=\"convertToInteractive('df-f346cdfb-cf23-49c2-8ed2-773a941251e1')\"\n",
              "              title=\"Convert this dataframe to an interactive table.\"\n",
              "              style=\"display:none;\">\n",
              "        \n",
              "  <svg xmlns=\"http://www.w3.org/2000/svg\" height=\"24px\"viewBox=\"0 0 24 24\"\n",
              "       width=\"24px\">\n",
              "    <path d=\"M0 0h24v24H0V0z\" fill=\"none\"/>\n",
              "    <path d=\"M18.56 5.44l.94 2.06.94-2.06 2.06-.94-2.06-.94-.94-2.06-.94 2.06-2.06.94zm-11 1L8.5 8.5l.94-2.06 2.06-.94-2.06-.94L8.5 2.5l-.94 2.06-2.06.94zm10 10l.94 2.06.94-2.06 2.06-.94-2.06-.94-.94-2.06-.94 2.06-2.06.94z\"/><path d=\"M17.41 7.96l-1.37-1.37c-.4-.4-.92-.59-1.43-.59-.52 0-1.04.2-1.43.59L10.3 9.45l-7.72 7.72c-.78.78-.78 2.05 0 2.83L4 21.41c.39.39.9.59 1.41.59.51 0 1.02-.2 1.41-.59l7.78-7.78 2.81-2.81c.8-.78.8-2.07 0-2.86zM5.41 20L4 18.59l7.72-7.72 1.47 1.35L5.41 20z\"/>\n",
              "  </svg>\n",
              "      </button>\n",
              "      \n",
              "  <style>\n",
              "    .colab-df-container {\n",
              "      display:flex;\n",
              "      flex-wrap:wrap;\n",
              "      gap: 12px;\n",
              "    }\n",
              "\n",
              "    .colab-df-convert {\n",
              "      background-color: #E8F0FE;\n",
              "      border: none;\n",
              "      border-radius: 50%;\n",
              "      cursor: pointer;\n",
              "      display: none;\n",
              "      fill: #1967D2;\n",
              "      height: 32px;\n",
              "      padding: 0 0 0 0;\n",
              "      width: 32px;\n",
              "    }\n",
              "\n",
              "    .colab-df-convert:hover {\n",
              "      background-color: #E2EBFA;\n",
              "      box-shadow: 0px 1px 2px rgba(60, 64, 67, 0.3), 0px 1px 3px 1px rgba(60, 64, 67, 0.15);\n",
              "      fill: #174EA6;\n",
              "    }\n",
              "\n",
              "    [theme=dark] .colab-df-convert {\n",
              "      background-color: #3B4455;\n",
              "      fill: #D2E3FC;\n",
              "    }\n",
              "\n",
              "    [theme=dark] .colab-df-convert:hover {\n",
              "      background-color: #434B5C;\n",
              "      box-shadow: 0px 1px 3px 1px rgba(0, 0, 0, 0.15);\n",
              "      filter: drop-shadow(0px 1px 2px rgba(0, 0, 0, 0.3));\n",
              "      fill: #FFFFFF;\n",
              "    }\n",
              "  </style>\n",
              "\n",
              "      <script>\n",
              "        const buttonEl =\n",
              "          document.querySelector('#df-f346cdfb-cf23-49c2-8ed2-773a941251e1 button.colab-df-convert');\n",
              "        buttonEl.style.display =\n",
              "          google.colab.kernel.accessAllowed ? 'block' : 'none';\n",
              "\n",
              "        async function convertToInteractive(key) {\n",
              "          const element = document.querySelector('#df-f346cdfb-cf23-49c2-8ed2-773a941251e1');\n",
              "          const dataTable =\n",
              "            await google.colab.kernel.invokeFunction('convertToInteractive',\n",
              "                                                     [key], {});\n",
              "          if (!dataTable) return;\n",
              "\n",
              "          const docLinkHtml = 'Like what you see? Visit the ' +\n",
              "            '<a target=\"_blank\" href=https://colab.research.google.com/notebooks/data_table.ipynb>data table notebook</a>'\n",
              "            + ' to learn more about interactive tables.';\n",
              "          element.innerHTML = '';\n",
              "          dataTable['output_type'] = 'display_data';\n",
              "          await google.colab.output.renderOutput(dataTable, element);\n",
              "          const docLink = document.createElement('div');\n",
              "          docLink.innerHTML = docLinkHtml;\n",
              "          element.appendChild(docLink);\n",
              "        }\n",
              "      </script>\n",
              "    </div>\n",
              "  </div>\n",
              "  "
            ]
          },
          "metadata": {},
          "execution_count": 27
        }
      ],
      "source": [
        "df_passanger_cars = df[(df['Vehicletype'] == 'Passenger cars')]\n",
        "df_passanger_cars.head()"
      ]
    },
    {
      "cell_type": "code",
      "execution_count": 28,
      "metadata": {
        "colab": {
          "base_uri": "https://localhost:8080/"
        },
        "id": "P48LSrRIOh6y",
        "outputId": "bf3e01cc-4265-4b42-be67-e76182b4e2c9"
      },
      "outputs": [
        {
          "output_type": "execute_result",
          "data": {
            "text/plain": [
              "REF_DATE               76232\n",
              "GEO                    76232\n",
              "DGUID                  69586\n",
              "Vehicletype            76232\n",
              "Originofmanufacture    76232\n",
              "Sales                  76232\n",
              "Seasonaladjustment     76232\n",
              "UOM                    76232\n",
              "UOM_ID                 76232\n",
              "SCALAR_FACTOR          76232\n",
              "SCALAR_ID              76232\n",
              "VECTOR                 76232\n",
              "COORDINATE             76232\n",
              "VALUE                  68793\n",
              "STATUS                  7439\n",
              "SYMBOL                     0\n",
              "TERMINATED              2214\n",
              "DECIMALS               76232\n",
              "dtype: int64"
            ]
          },
          "metadata": {},
          "execution_count": 28
        }
      ],
      "source": [
        "df_passanger_cars.count()"
      ]
    },
    {
      "cell_type": "code",
      "execution_count": 30,
      "metadata": {
        "colab": {
          "base_uri": "https://localhost:8080/"
        },
        "id": "YBYHLl2iOus-",
        "outputId": "ddc34296-09d6-4f07-8a22-511bcd88b74b"
      },
      "outputs": [
        {
          "output_type": "execute_result",
          "data": {
            "text/plain": [
              "156392"
            ]
          },
          "metadata": {},
          "execution_count": 30
        }
      ],
      "source": [
        "#total number of vehile types \n",
        "df['Vehicletype'].count()"
      ]
    },
    {
      "cell_type": "code",
      "execution_count": 31,
      "metadata": {
        "colab": {
          "base_uri": "https://localhost:8080/"
        },
        "id": "N6-3FSW0PYAM",
        "outputId": "33fa3d61-4834-476b-89b2-bdb7c48ff5f1"
      },
      "outputs": [
        {
          "output_type": "execute_result",
          "data": {
            "text/plain": [
              "76232"
            ]
          },
          "metadata": {},
          "execution_count": 31
        }
      ],
      "source": [
        "#toal number of vehile type in passanger seat\n",
        "df_passanger_cars['Vehicletype'].count()"
      ]
    },
    {
      "cell_type": "code",
      "execution_count": 32,
      "metadata": {
        "colab": {
          "base_uri": "https://localhost:8080/"
        },
        "id": "aLRjWXSsPZWy",
        "outputId": "f91d66e0-d433-4e84-b149-2bc396a36499"
      },
      "outputs": [
        {
          "output_type": "execute_result",
          "data": {
            "text/plain": [
              "80160"
            ]
          },
          "metadata": {},
          "execution_count": 32
        }
      ],
      "source": [
        "#differance\n",
        "df['Vehicletype'].count() - df_passanger_cars['Vehicletype'].count()"
      ]
    },
    {
      "cell_type": "markdown",
      "metadata": {
        "id": "tmQ_qTAZpY7p"
      },
      "source": [
        "# **Plotting**"
      ]
    },
    {
      "cell_type": "code",
      "execution_count": 44,
      "metadata": {
        "colab": {
          "base_uri": "https://localhost:8080/",
          "height": 276
        },
        "id": "MJWTghOffIos",
        "outputId": "20a55221-76aa-4406-ad10-1f6838550830"
      },
      "outputs": [
        {
          "output_type": "display_data",
          "data": {
            "text/plain": [
              "<Figure size 432x288 with 1 Axes>"
            ],
            "image/png": "[encoded data removed]"
          },
          "metadata": {
            "needs_background": "light"
          }
        }
      ],
      "source": [
        "#import matplotlib.pyplot as plt\n",
        "\n",
        "#normal plot(bar)\n",
        "plt.plot(df.REF_DATE, df.VALUE)\n",
        "plt.show()"
      ]
    },
    {
      "cell_type": "code",
      "source": [],
      "metadata": {
        "id": "QzRV-NU559DR"
      },
      "execution_count": null,
      "outputs": []
    },
    {
      "cell_type": "code",
      "execution_count": 34,
      "metadata": {
        "colab": {
          "base_uri": "https://localhost:8080/",
          "height": 276
        },
        "id": "FXYKPoGBfeI4",
        "outputId": "028d1504-29e2-4e89-a294-7731f59530c0"
      },
      "outputs": [
        {
          "output_type": "display_data",
          "data": {
            "text/plain": [
              "<Figure size 432x288 with 1 Axes>"
            ],
            "image/png": "[encoded data removed]"
          },
          "metadata": {
            "needs_background": "light"
          }
        }
      ],
      "source": [
        "#scatter plot\n",
        "\n",
        "plt.scatter(df.REF_DATE, df.VALUE)\n",
        "#for log on x axis\n",
        "#plt.xscale('log')\n",
        "plt.show()"
      ]
    },
    {
      "cell_type": "code",
      "execution_count": 45,
      "metadata": {
        "colab": {
          "base_uri": "https://localhost:8080/",
          "height": 338
        },
        "id": "pKCkKmFSn4xV",
        "outputId": "833a70a8-30b2-4ba0-d25e-3563fe8b84dd"
      },
      "outputs": [
        {
          "output_type": "execute_result",
          "data": {
            "text/plain": [
              "(array([33880.,     0.,     0.,     0.,     0., 76232.,     0.,     0.,\n",
              "            0., 46280.]),\n",
              " array([0. , 0.2, 0.4, 0.6, 0.8, 1. , 1.2, 1.4, 1.6, 1.8, 2. ]),\n",
              " <a list of 10 Patch objects>)"
            ]
          },
          "metadata": {},
          "execution_count": 45
        },
        {
          "output_type": "display_data",
          "data": {
            "text/plain": [
              "<Figure size 432x288 with 1 Axes>"
            ],
            "image/png": "[encoded data removed]"
          },
          "metadata": {
            "needs_background": "light"
          }
        }
      ],
      "source": [
        "# type of car sales\n",
        "plt.hist(df.Vehicletype)\n"
      ]
    },
    {
      "cell_type": "code",
      "source": [
        "#applying histtype argument \n",
        "plt.hist(df.Vehicletype, bins=3, histtype ='step')"
      ],
      "metadata": {
        "colab": {
          "base_uri": "https://localhost:8080/",
          "height": 321
        },
        "id": "SOaMRVGY6IQd",
        "outputId": "2f5b8f63-0fc0-4be7-fd34-de4aa7b9cdc6"
      },
      "execution_count": 46,
      "outputs": [
        {
          "output_type": "execute_result",
          "data": {
            "text/plain": [
              "(array([33880., 76232., 46280.]),\n",
              " array([0.        , 0.66666667, 1.33333333, 2.        ]),\n",
              " <a list of 1 Patch objects>)"
            ]
          },
          "metadata": {},
          "execution_count": 46
        },
        {
          "output_type": "display_data",
          "data": {
            "text/plain": [
              "<Figure size 432x288 with 1 Axes>"
            ],
            "image/png": "[encoded data removed]"
          },
          "metadata": {
            "needs_background": "light"
          }
        }
      ]
    },
    {
      "cell_type": "code",
      "source": [],
      "metadata": {
        "id": "CoKbsHOR6I7U"
      },
      "execution_count": null,
      "outputs": []
    },
    {
      "cell_type": "code",
      "execution_count": 36,
      "metadata": {
        "colab": {
          "base_uri": "https://localhost:8080/",
          "height": 321
        },
        "id": "1oYHE7rxr-1t",
        "outputId": "f6c74d97-4acd-4b47-95bf-65e951c93def"
      },
      "outputs": [
        {
          "output_type": "execute_result",
          "data": {
            "text/plain": [
              "(array([33880.,     0., 76232.,     0., 46280.]),\n",
              " array([0. , 0.4, 0.8, 1.2, 1.6, 2. ]),\n",
              " <a list of 5 Patch objects>)"
            ]
          },
          "metadata": {},
          "execution_count": 36
        },
        {
          "output_type": "display_data",
          "data": {
            "text/plain": [
              "<Figure size 432x288 with 1 Axes>"
            ],
            "image/png": "[encoded data removed]"
          },
          "metadata": {
            "needs_background": "light"
          }
        }
      ],
      "source": [
        "#histogram plot\n",
        "plt.hist(df.Vehicletype, bins = 5)"
      ]
    },
    {
      "cell_type": "code",
      "execution_count": 37,
      "metadata": {
        "colab": {
          "base_uri": "https://localhost:8080/",
          "height": 347
        },
        "id": "0zcbwscJo-Zr",
        "outputId": "6425a3ad-55c9-4321-ad1b-1b9ecc16b42d"
      },
      "outputs": [
        {
          "output_type": "execute_result",
          "data": {
            "text/plain": [
              "(array([33880.,     0., 76232.,     0., 46280.]),\n",
              " array([0. , 0.4, 0.8, 1.2, 1.6, 2. ]),\n",
              " <a list of 5 Patch objects>)"
            ]
          },
          "metadata": {},
          "execution_count": 37
        },
        {
          "output_type": "display_data",
          "data": {
            "text/plain": [
              "<Figure size 432x288 with 1 Axes>"
            ],
            "image/png": "[encoded data removed]"
          },
          "metadata": {
            "needs_background": "light"
          }
        }
      ],
      "source": [
        "#customize histogram same as above\n",
        "#x lable \n",
        "plt.xlabel('type of car')\n",
        "\n",
        "#y lable\n",
        "plt.ylabel('total sales per car type')\n",
        "\n",
        "#title of graph\n",
        "plt.title('type of car VS sales per type')\n",
        "\n",
        "#what to print on axis\n",
        "tick_val = [1000,10000,20000,30000,40000,50000,60000]\n",
        "tick_lab = ['1k','10k','20k','30k','40k','50k','60k']\n",
        "\n",
        "# Adapt the ticks on the x-axis\n",
        "plt.yticks(tick_val,tick_lab)\n",
        "\n",
        "#histogram plot\n",
        "plt.hist(df.Vehicletype, bins = 5)"
      ]
    },
    {
      "cell_type": "code",
      "execution_count": 38,
      "metadata": {
        "colab": {
          "base_uri": "https://localhost:8080/",
          "height": 338
        },
        "id": "5ME6DBqjpwLr",
        "outputId": "bbfd0181-407d-4ad6-a1f7-4e2eb86647ef"
      },
      "outputs": [
        {
          "output_type": "execute_result",
          "data": {
            "text/plain": [
              "(array([33880.,     0.,     0.,     0.,     0., 76232.,     0.,     0.,\n",
              "            0., 46280.]),\n",
              " array([0. , 0.2, 0.4, 0.6, 0.8, 1. , 1.2, 1.4, 1.6, 1.8, 2. ]),\n",
              " <a list of 10 Patch objects>)"
            ]
          },
          "metadata": {},
          "execution_count": 38
        },
        {
          "output_type": "display_data",
          "data": {
            "text/plain": [
              "<Figure size 432x288 with 1 Axes>"
            ],
            "image/png": "[encoded data removed]"
          },
          "metadata": {
            "needs_background": "light"
          }
        }
      ],
      "source": [
        "plt.hist(df.Vehicletype, bins = 10)"
      ]
    },
    {
      "cell_type": "code",
      "execution_count": 39,
      "metadata": {
        "colab": {
          "base_uri": "https://localhost:8080/"
        },
        "id": "1fcW51OCv0bj",
        "outputId": "726579aa-879f-434d-84b9-b59c2b0b1f97"
      },
      "outputs": [
        {
          "output_type": "execute_result",
          "data": {
            "text/plain": [
              "300    81097\n",
              "81     75295\n",
              "Name: UOM_ID, dtype: int64"
            ]
          },
          "metadata": {},
          "execution_count": 39
        }
      ],
      "source": [
        "#counting the categorial column value \n",
        "df['UOM_ID'].value_counts()"
      ]
    },
    {
      "cell_type": "code",
      "execution_count": 40,
      "metadata": {
        "colab": {
          "base_uri": "https://localhost:8080/",
          "height": 293
        },
        "id": "nu4vmYAwsG_C",
        "outputId": "f14c0bc5-9d1d-4560-96ab-c0d724ce9650"
      },
      "outputs": [
        {
          "output_type": "execute_result",
          "data": {
            "text/plain": [
              "<matplotlib.collections.PathCollection at 0x7ff378371f90>"
            ]
          },
          "metadata": {},
          "execution_count": 40
        },
        {
          "output_type": "display_data",
          "data": {
            "text/plain": [
              "<Figure size 432x288 with 1 Axes>"
            ],
            "image/png": "[encoded data removed]"
          },
          "metadata": {
            "needs_background": "light"
          }
        }
      ],
      "source": [
        "plt.grid(True) \n",
        "plt.scatter(df.Vehicletype,df.VALUE, s = df.UOM_ID, c=df.UOM_ID,alpha=0.8)"
      ]
    },
    {
      "cell_type": "code",
      "execution_count": 41,
      "metadata": {
        "colab": {
          "base_uri": "https://localhost:8080/"
        },
        "id": "7HtFXEYYs4Z6",
        "outputId": "c8dd52be-d04b-4f23-ff0b-310487ecb10a"
      },
      "outputs": [
        {
          "output_type": "execute_result",
          "data": {
            "text/plain": [
              "Index(['REF_DATE', 'GEO', 'DGUID', 'Vehicletype', 'Originofmanufacture',\n",
              "       'Sales', 'Seasonaladjustment', 'UOM', 'UOM_ID', 'SCALAR_FACTOR',\n",
              "       'SCALAR_ID', 'VECTOR', 'COORDINATE', 'VALUE', 'STATUS', 'SYMBOL',\n",
              "       'TERMINATED', 'DECIMALS'],\n",
              "      dtype='object')"
            ]
          },
          "metadata": {},
          "execution_count": 41
        }
      ],
      "source": [
        "df.columns"
      ]
    },
    {
      "cell_type": "code",
      "execution_count": 51,
      "metadata": {
        "id": "RbQ5aOS-M2vR",
        "colab": {
          "base_uri": "https://localhost:8080/",
          "height": 235
        },
        "outputId": "316049f5-8bef-4be2-9ae3-2d36ddb64741"
      },
      "outputs": [
        {
          "output_type": "error",
          "ename": "NameError",
          "evalue": "ignored",
          "traceback": [
            "\u001b[0;31m---------------------------------------------------------------------------\u001b[0m",
            "\u001b[0;31mNameError\u001b[0m                                 Traceback (most recent call last)",
            "\u001b[0;32m<ipython-input-51-62c3c777d6d9>\u001b[0m in \u001b[0;36m<module>\u001b[0;34m\u001b[0m\n\u001b[1;32m      2\u001b[0m \u001b[0;34m\u001b[0m\u001b[0m\n\u001b[1;32m      3\u001b[0m \u001b[0;31m# Plot the CDFs\u001b[0m\u001b[0;34m\u001b[0m\u001b[0;34m\u001b[0m\u001b[0;34m\u001b[0m\u001b[0m\n\u001b[0;32m----> 4\u001b[0;31m \u001b[0mCdf\u001b[0m\u001b[0;34m(\u001b[0m\u001b[0mvehicle_type\u001b[0m\u001b[0;34m[\u001b[0m\u001b[0;34m'Passenger cars'\u001b[0m\u001b[0;34m]\u001b[0m\u001b[0;34m)\u001b[0m\u001b[0;34m.\u001b[0m\u001b[0mplot\u001b[0m\u001b[0;34m(\u001b[0m\u001b[0mlabel\u001b[0m\u001b[0;34m=\u001b[0m\u001b[0;34m'High school'\u001b[0m\u001b[0;34m)\u001b[0m\u001b[0;34m\u001b[0m\u001b[0;34m\u001b[0m\u001b[0m\n\u001b[0m\u001b[1;32m      5\u001b[0m \u001b[0mCdf\u001b[0m\u001b[0;34m(\u001b[0m\u001b[0mvehicle_type\u001b[0m\u001b[0;34m[\u001b[0m\u001b[0;34m'Trucks'\u001b[0m\u001b[0;34m]\u001b[0m\u001b[0;34m)\u001b[0m\u001b[0;34m.\u001b[0m\u001b[0mplot\u001b[0m\u001b[0;34m(\u001b[0m\u001b[0mlabel\u001b[0m\u001b[0;34m=\u001b[0m\u001b[0;34m'Associate'\u001b[0m\u001b[0;34m)\u001b[0m\u001b[0;34m\u001b[0m\u001b[0;34m\u001b[0m\u001b[0m\n\u001b[1;32m      6\u001b[0m \u001b[0;31m#Cdf(vehicle_type[bach]).plot(label='Bachelor')\u001b[0m\u001b[0;34m\u001b[0m\u001b[0;34m\u001b[0m\u001b[0;34m\u001b[0m\u001b[0m\n",
            "\u001b[0;31mNameError\u001b[0m: name 'Cdf' is not defined"
          ]
        }
      ],
      "source": [
        "vehicle_type = df['Vehicletype']\n",
        "\n",
        "# Plot the CDFs\n",
        "Cdf(vehicle_type['Passenger cars']).plot(label='High school')\n",
        "Cdf(vehicle_type['Trucks']).plot(label='Associate')\n",
        "#Cdf(vehicle_type[bach]).plot(label='Bachelor')\n",
        "\n",
        "# Label the axes\n",
        "plt.xlabel('Income (1986 USD)')\n",
        "plt.ylabel('CDF')\n",
        "plt.legend()\n",
        "plt.show()"
      ]
    },
    {
      "cell_type": "code",
      "source": [
        "# Make a box plot\n",
        "sns.boxplot(x='VALUE', y='Vehicletype', data=df)\n",
        "\n"
      ],
      "metadata": {
        "colab": {
          "base_uri": "https://localhost:8080/",
          "height": 296
        },
        "id": "CYvWqZlPBBPU",
        "outputId": "756ec511-a987-4b25-8633-d2ea53106246"
      },
      "execution_count": 70,
      "outputs": [
        {
          "output_type": "execute_result",
          "data": {
            "text/plain": [
              "<matplotlib.axes._subplots.AxesSubplot at 0x7ff36bc324d0>"
            ]
          },
          "metadata": {},
          "execution_count": 70
        },
        {
          "output_type": "display_data",
          "data": {
            "text/plain": [
              "<Figure size 432x288 with 1 Axes>"
            ],
            "image/png": "[encoded data removed]"
          },
          "metadata": {
            "needs_background": "light"
          }
        }
      ]
    },
    {
      "cell_type": "code",
      "source": [
        "\n",
        "sns.boxplot(x='VALUE', y='Vehicletype', data=df)\n",
        "\n",
        "# Plot the y-axis on a log scale\n",
        "#plt.yscale('log')\n",
        "\n",
        "# Remove unneeded lines and label axes\n",
        "sns.despine(left=True, bottom=True)\n",
        "plt.xlabel('VALUES')\n",
        "plt.ylabel('Vehicle type')\n",
        "plt.show()"
      ],
      "metadata": {
        "colab": {
          "base_uri": "https://localhost:8080/",
          "height": 279
        },
        "id": "wAdizvEBHlPq",
        "outputId": "ca1b55d5-f742-40a7-b905-853b03934c24"
      },
      "execution_count": 72,
      "outputs": [
        {
          "output_type": "display_data",
          "data": {
            "text/plain": [
              "<Figure size 432x288 with 1 Axes>"
            ],
            "image/png": "[encoded data removed]"
          },
          "metadata": {
            "needs_background": "light"
          }
        }
      ]
    },
    {
      "cell_type": "code",
      "source": [
        "# Drop rows with missing data\n",
        "data = df.dropna(subset=['VALUE', 'Vehicletype'])\n",
        "\n",
        "# Make a violin plot\n",
        "sns.violinplot(x='VALUE', y='Vehicletype', data=df, inner=None)\n",
        "\n",
        "# Remove unneeded lines and label axes\n",
        "sns.despine(left=True, bottom=True)\n",
        "plt.xlabel('Value')\n",
        "plt.ylabel('Type of vehicle')\n",
        "plt.show()\n"
      ],
      "metadata": {
        "colab": {
          "base_uri": "https://localhost:8080/",
          "height": 279
        },
        "id": "kPB13O-eIOQ3",
        "outputId": "c030cb02-3ffa-41d4-f2b9-c325de396668"
      },
      "execution_count": 74,
      "outputs": [
        {
          "output_type": "display_data",
          "data": {
            "text/plain": [
              "<Figure size 432x288 with 1 Axes>"
            ],
            "image/png": "[encoded data removed]"
          },
          "metadata": {
            "needs_background": "light"
          }
        }
      ]
    },
    {
      "cell_type": "code",
      "source": [],
      "metadata": {
        "id": "vvRnIhmPHS3k"
      },
      "execution_count": null,
      "outputs": []
    },
    {
      "cell_type": "code",
      "source": [],
      "metadata": {
        "id": "1T3AeJPHApxA"
      },
      "execution_count": null,
      "outputs": []
    },
    {
      "cell_type": "code",
      "source": [],
      "metadata": {
        "id": "nQAjux8VABUt"
      },
      "execution_count": null,
      "outputs": []
    }
  ],
  "metadata": {
    "colab": {
      "collapsed_sections": [],
      "provenance": [],
      "authorship_tag": "ABX9TyML3yz8ldxcM/m0T9UZ2qci",
      "include_colab_link": true
    },
    "kernelspec": {
      "display_name": "Python 3",
      "name": "python3"
    },
    "language_info": {
      "name": "python"
    }
  },
  "nbformat": 4,
  "nbformat_minor": 0
}